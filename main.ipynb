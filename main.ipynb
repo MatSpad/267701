{
 "cells": [
  {
   "cell_type": "code",
   "execution_count": 108,
   "outputs": [],
   "source": [
    "import numpy as np\n",
    "import pandas as pd\n",
    "import matplotlib.pyplot as plt\n",
    "import seaborn as sns\n",
    "%matplotlib inline"
   ],
   "metadata": {
    "collapsed": false,
    "pycharm": {
     "name": "#%%\n"
    }
   }
  },
  {
   "cell_type": "code",
   "execution_count": 109,
   "outputs": [],
   "source": [
    "art_df = pd.read_csv('Data/recsys_articles.csv')\n",
    "cus_df = pd.read_csv('Data/recsys_customers.csv')\n",
    "tra_df = pd.read_csv('Data/recsys_transactions.csv')"
   ],
   "metadata": {
    "collapsed": false,
    "pycharm": {
     "name": "#%%\n"
    }
   }
  },
  {
   "cell_type": "code",
   "execution_count": 110,
   "outputs": [
    {
     "data": {
      "text/plain": "   article_id                     prod_name  product_type product_type_name  \\\n0           0           20 den 1p Stockings           304  Underwear Tights   \n1           1     Shape Up 30 den 1p Tights           273   Leggings/Tights   \n2           2      Support 40 den 1p Tights           304  Underwear Tights   \n3           3             200 den 1p Tights           304  Underwear Tights   \n4           4  Control Top 50 den 1p Tights           273   Leggings/Tights   \n\n   product_group_name  colour_group colour_group_name  perceived_colour_value  \\\n0      Socks & Tights             9             Black                       4   \n1  Garment Lower body             9             Black                       4   \n2      Socks & Tights             9             Black                       4   \n3      Socks & Tights             9             Black                       4   \n4  Garment Lower body             9             Black                       4   \n\n  perceived_colour_value_name  perceived_colour_master  ... department  \\\n0                        Dark                        5  ...       3608   \n1                        Dark                        5  ...       3608   \n2                        Dark                        5  ...       3608   \n3                        Dark                        5  ...       3608   \n4                        Dark                        5  ...       3608   \n\n   department_name index        index_name index_group  index_group_name  \\\n0     Tights basic     B  Lingeries/Tights           1        Ladieswear   \n1     Tights basic     B  Lingeries/Tights           1        Ladieswear   \n2     Tights basic     B  Lingeries/Tights           1        Ladieswear   \n3     Tights basic     B  Lingeries/Tights           1        Ladieswear   \n4     Tights basic     B  Lingeries/Tights           1        Ladieswear   \n\n  section                    section_name garment_group  garment_group_name  \n0      62  Womens Nightwear, Socks & Tigh          1021    Socks and Tights  \n1      62  Womens Nightwear, Socks & Tigh          1021    Socks and Tights  \n2      62  Womens Nightwear, Socks & Tigh          1021    Socks and Tights  \n3      62  Womens Nightwear, Socks & Tigh          1021    Socks and Tights  \n4      62  Womens Nightwear, Socks & Tigh          1021    Socks and Tights  \n\n[5 rows x 21 columns]",
      "text/html": "<div>\n<style scoped>\n    .dataframe tbody tr th:only-of-type {\n        vertical-align: middle;\n    }\n\n    .dataframe tbody tr th {\n        vertical-align: top;\n    }\n\n    .dataframe thead th {\n        text-align: right;\n    }\n</style>\n<table border=\"1\" class=\"dataframe\">\n  <thead>\n    <tr style=\"text-align: right;\">\n      <th></th>\n      <th>article_id</th>\n      <th>prod_name</th>\n      <th>product_type</th>\n      <th>product_type_name</th>\n      <th>product_group_name</th>\n      <th>colour_group</th>\n      <th>colour_group_name</th>\n      <th>perceived_colour_value</th>\n      <th>perceived_colour_value_name</th>\n      <th>perceived_colour_master</th>\n      <th>...</th>\n      <th>department</th>\n      <th>department_name</th>\n      <th>index</th>\n      <th>index_name</th>\n      <th>index_group</th>\n      <th>index_group_name</th>\n      <th>section</th>\n      <th>section_name</th>\n      <th>garment_group</th>\n      <th>garment_group_name</th>\n    </tr>\n  </thead>\n  <tbody>\n    <tr>\n      <th>0</th>\n      <td>0</td>\n      <td>20 den 1p Stockings</td>\n      <td>304</td>\n      <td>Underwear Tights</td>\n      <td>Socks &amp; Tights</td>\n      <td>9</td>\n      <td>Black</td>\n      <td>4</td>\n      <td>Dark</td>\n      <td>5</td>\n      <td>...</td>\n      <td>3608</td>\n      <td>Tights basic</td>\n      <td>B</td>\n      <td>Lingeries/Tights</td>\n      <td>1</td>\n      <td>Ladieswear</td>\n      <td>62</td>\n      <td>Womens Nightwear, Socks &amp; Tigh</td>\n      <td>1021</td>\n      <td>Socks and Tights</td>\n    </tr>\n    <tr>\n      <th>1</th>\n      <td>1</td>\n      <td>Shape Up 30 den 1p Tights</td>\n      <td>273</td>\n      <td>Leggings/Tights</td>\n      <td>Garment Lower body</td>\n      <td>9</td>\n      <td>Black</td>\n      <td>4</td>\n      <td>Dark</td>\n      <td>5</td>\n      <td>...</td>\n      <td>3608</td>\n      <td>Tights basic</td>\n      <td>B</td>\n      <td>Lingeries/Tights</td>\n      <td>1</td>\n      <td>Ladieswear</td>\n      <td>62</td>\n      <td>Womens Nightwear, Socks &amp; Tigh</td>\n      <td>1021</td>\n      <td>Socks and Tights</td>\n    </tr>\n    <tr>\n      <th>2</th>\n      <td>2</td>\n      <td>Support 40 den 1p Tights</td>\n      <td>304</td>\n      <td>Underwear Tights</td>\n      <td>Socks &amp; Tights</td>\n      <td>9</td>\n      <td>Black</td>\n      <td>4</td>\n      <td>Dark</td>\n      <td>5</td>\n      <td>...</td>\n      <td>3608</td>\n      <td>Tights basic</td>\n      <td>B</td>\n      <td>Lingeries/Tights</td>\n      <td>1</td>\n      <td>Ladieswear</td>\n      <td>62</td>\n      <td>Womens Nightwear, Socks &amp; Tigh</td>\n      <td>1021</td>\n      <td>Socks and Tights</td>\n    </tr>\n    <tr>\n      <th>3</th>\n      <td>3</td>\n      <td>200 den 1p Tights</td>\n      <td>304</td>\n      <td>Underwear Tights</td>\n      <td>Socks &amp; Tights</td>\n      <td>9</td>\n      <td>Black</td>\n      <td>4</td>\n      <td>Dark</td>\n      <td>5</td>\n      <td>...</td>\n      <td>3608</td>\n      <td>Tights basic</td>\n      <td>B</td>\n      <td>Lingeries/Tights</td>\n      <td>1</td>\n      <td>Ladieswear</td>\n      <td>62</td>\n      <td>Womens Nightwear, Socks &amp; Tigh</td>\n      <td>1021</td>\n      <td>Socks and Tights</td>\n    </tr>\n    <tr>\n      <th>4</th>\n      <td>4</td>\n      <td>Control Top 50 den 1p Tights</td>\n      <td>273</td>\n      <td>Leggings/Tights</td>\n      <td>Garment Lower body</td>\n      <td>9</td>\n      <td>Black</td>\n      <td>4</td>\n      <td>Dark</td>\n      <td>5</td>\n      <td>...</td>\n      <td>3608</td>\n      <td>Tights basic</td>\n      <td>B</td>\n      <td>Lingeries/Tights</td>\n      <td>1</td>\n      <td>Ladieswear</td>\n      <td>62</td>\n      <td>Womens Nightwear, Socks &amp; Tigh</td>\n      <td>1021</td>\n      <td>Socks and Tights</td>\n    </tr>\n  </tbody>\n</table>\n<p>5 rows × 21 columns</p>\n</div>"
     },
     "execution_count": 110,
     "metadata": {},
     "output_type": "execute_result"
    }
   ],
   "source": [
    "art_df.head()"
   ],
   "metadata": {
    "collapsed": false,
    "pycharm": {
     "name": "#%%\n"
    }
   }
  },
  {
   "cell_type": "code",
   "execution_count": 111,
   "outputs": [
    {
     "name": "stdout",
     "output_type": "stream",
     "text": [
      "Articles dataset info:\n",
      "<class 'pandas.core.frame.DataFrame'>\n",
      "RangeIndex: 6536 entries, 0 to 6535\n",
      "Data columns (total 21 columns):\n",
      " #   Column                        Non-Null Count  Dtype \n",
      "---  ------                        --------------  ----- \n",
      " 0   article_id                    6536 non-null   int64 \n",
      " 1   prod_name                     6536 non-null   object\n",
      " 2   product_type                  6536 non-null   int64 \n",
      " 3   product_type_name             6536 non-null   object\n",
      " 4   product_group_name            6536 non-null   object\n",
      " 5   colour_group                  6536 non-null   int64 \n",
      " 6   colour_group_name             6536 non-null   object\n",
      " 7   perceived_colour_value        6536 non-null   int64 \n",
      " 8   perceived_colour_value_name   6536 non-null   object\n",
      " 9   perceived_colour_master       6536 non-null   int64 \n",
      " 10  perceived_colour_master_name  6536 non-null   object\n",
      " 11  department                    6536 non-null   int64 \n",
      " 12  department_name               6536 non-null   object\n",
      " 13  index                         6536 non-null   object\n",
      " 14  index_name                    6536 non-null   object\n",
      " 15  index_group                   6536 non-null   int64 \n",
      " 16  index_group_name              6536 non-null   object\n",
      " 17  section                       6536 non-null   int64 \n",
      " 18  section_name                  6536 non-null   object\n",
      " 19  garment_group                 6536 non-null   int64 \n",
      " 20  garment_group_name            6536 non-null   object\n",
      "dtypes: int64(9), object(12)\n",
      "memory usage: 1.0+ MB\n"
     ]
    },
    {
     "data": {
      "text/plain": "None"
     },
     "metadata": {},
     "output_type": "display_data"
    },
    {
     "name": "stdout",
     "output_type": "stream",
     "text": [
      "\n",
      "Articles dataset shape:\n"
     ]
    },
    {
     "data": {
      "text/plain": "(6536, 21)"
     },
     "metadata": {},
     "output_type": "display_data"
    }
   ],
   "source": [
    "print(\"Articles dataset info:\")\n",
    "display(art_df.info())\n",
    "print(\"\\nArticles dataset shape:\")\n",
    "display(art_df.shape)"
   ],
   "metadata": {
    "collapsed": false,
    "pycharm": {
     "name": "#%%\n"
    }
   }
  },
  {
   "cell_type": "code",
   "execution_count": 112,
   "outputs": [
    {
     "name": "stderr",
     "output_type": "stream",
     "text": [
      "/var/folders/56/z_fc2zs50djg1w4_lzlwcrd80000gn/T/ipykernel_1140/2696671107.py:1: FutureWarning: The default value of numeric_only in DataFrame.corr is deprecated. In a future version, it will default to False. Select only valid columns or specify the value of numeric_only to silence this warning.\n",
      "  art_df.corr()\n"
     ]
    },
    {
     "data": {
      "text/plain": "                         article_id  product_type  colour_group  \\\narticle_id                 1.000000     -0.050658     -0.074545   \nproduct_type              -0.050658      1.000000      0.066269   \ncolour_group              -0.074545      0.066269      1.000000   \nperceived_colour_value    -0.001012     -0.097847     -0.145336   \nperceived_colour_master    0.023247     -0.058400     -0.061252   \ndepartment                -0.192431     -0.104305      0.019574   \nindex_group               -0.039236      0.056769     -0.001781   \nsection                   -0.117405     -0.210351     -0.013969   \ngarment_group             -0.078475     -0.230275      0.014029   \n\n                         perceived_colour_value  perceived_colour_master  \\\narticle_id                            -0.001012                 0.023247   \nproduct_type                          -0.097847                -0.058400   \ncolour_group                          -0.145336                -0.061252   \nperceived_colour_value                 1.000000                -0.099237   \nperceived_colour_master               -0.099237                 1.000000   \ndepartment                             0.093978                 0.030247   \nindex_group                            0.037609                -0.007794   \nsection                                0.056261                -0.072562   \ngarment_group                          0.070385                -0.067764   \n\n                         department  index_group   section  garment_group  \narticle_id                -0.192431    -0.039236 -0.117405      -0.078475  \nproduct_type              -0.104305     0.056769 -0.210351      -0.230275  \ncolour_group               0.019574    -0.001781 -0.013969       0.014029  \nperceived_colour_value     0.093978     0.037609  0.056261       0.070385  \nperceived_colour_master    0.030247    -0.007794 -0.072562      -0.067764  \ndepartment                 1.000000     0.637362  0.030296       0.084527  \nindex_group                0.637362     1.000000 -0.228436      -0.178963  \nsection                    0.030296    -0.228436  1.000000       0.554949  \ngarment_group              0.084527    -0.178963  0.554949       1.000000  ",
      "text/html": "<div>\n<style scoped>\n    .dataframe tbody tr th:only-of-type {\n        vertical-align: middle;\n    }\n\n    .dataframe tbody tr th {\n        vertical-align: top;\n    }\n\n    .dataframe thead th {\n        text-align: right;\n    }\n</style>\n<table border=\"1\" class=\"dataframe\">\n  <thead>\n    <tr style=\"text-align: right;\">\n      <th></th>\n      <th>article_id</th>\n      <th>product_type</th>\n      <th>colour_group</th>\n      <th>perceived_colour_value</th>\n      <th>perceived_colour_master</th>\n      <th>department</th>\n      <th>index_group</th>\n      <th>section</th>\n      <th>garment_group</th>\n    </tr>\n  </thead>\n  <tbody>\n    <tr>\n      <th>article_id</th>\n      <td>1.000000</td>\n      <td>-0.050658</td>\n      <td>-0.074545</td>\n      <td>-0.001012</td>\n      <td>0.023247</td>\n      <td>-0.192431</td>\n      <td>-0.039236</td>\n      <td>-0.117405</td>\n      <td>-0.078475</td>\n    </tr>\n    <tr>\n      <th>product_type</th>\n      <td>-0.050658</td>\n      <td>1.000000</td>\n      <td>0.066269</td>\n      <td>-0.097847</td>\n      <td>-0.058400</td>\n      <td>-0.104305</td>\n      <td>0.056769</td>\n      <td>-0.210351</td>\n      <td>-0.230275</td>\n    </tr>\n    <tr>\n      <th>colour_group</th>\n      <td>-0.074545</td>\n      <td>0.066269</td>\n      <td>1.000000</td>\n      <td>-0.145336</td>\n      <td>-0.061252</td>\n      <td>0.019574</td>\n      <td>-0.001781</td>\n      <td>-0.013969</td>\n      <td>0.014029</td>\n    </tr>\n    <tr>\n      <th>perceived_colour_value</th>\n      <td>-0.001012</td>\n      <td>-0.097847</td>\n      <td>-0.145336</td>\n      <td>1.000000</td>\n      <td>-0.099237</td>\n      <td>0.093978</td>\n      <td>0.037609</td>\n      <td>0.056261</td>\n      <td>0.070385</td>\n    </tr>\n    <tr>\n      <th>perceived_colour_master</th>\n      <td>0.023247</td>\n      <td>-0.058400</td>\n      <td>-0.061252</td>\n      <td>-0.099237</td>\n      <td>1.000000</td>\n      <td>0.030247</td>\n      <td>-0.007794</td>\n      <td>-0.072562</td>\n      <td>-0.067764</td>\n    </tr>\n    <tr>\n      <th>department</th>\n      <td>-0.192431</td>\n      <td>-0.104305</td>\n      <td>0.019574</td>\n      <td>0.093978</td>\n      <td>0.030247</td>\n      <td>1.000000</td>\n      <td>0.637362</td>\n      <td>0.030296</td>\n      <td>0.084527</td>\n    </tr>\n    <tr>\n      <th>index_group</th>\n      <td>-0.039236</td>\n      <td>0.056769</td>\n      <td>-0.001781</td>\n      <td>0.037609</td>\n      <td>-0.007794</td>\n      <td>0.637362</td>\n      <td>1.000000</td>\n      <td>-0.228436</td>\n      <td>-0.178963</td>\n    </tr>\n    <tr>\n      <th>section</th>\n      <td>-0.117405</td>\n      <td>-0.210351</td>\n      <td>-0.013969</td>\n      <td>0.056261</td>\n      <td>-0.072562</td>\n      <td>0.030296</td>\n      <td>-0.228436</td>\n      <td>1.000000</td>\n      <td>0.554949</td>\n    </tr>\n    <tr>\n      <th>garment_group</th>\n      <td>-0.078475</td>\n      <td>-0.230275</td>\n      <td>0.014029</td>\n      <td>0.070385</td>\n      <td>-0.067764</td>\n      <td>0.084527</td>\n      <td>-0.178963</td>\n      <td>0.554949</td>\n      <td>1.000000</td>\n    </tr>\n  </tbody>\n</table>\n</div>"
     },
     "execution_count": 112,
     "metadata": {},
     "output_type": "execute_result"
    }
   ],
   "source": [
    "art_df.corr()"
   ],
   "metadata": {
    "collapsed": false,
    "pycharm": {
     "name": "#%%\n"
    }
   }
  },
  {
   "cell_type": "code",
   "execution_count": 113,
   "outputs": [
    {
     "data": {
      "text/plain": "   customer_id  fashion_news  club_member   age\n0            0             1            1  44.0\n1            1             1            1  33.0\n2            2             0            0  29.0\n3            3             0            0  21.0\n4            4             0            0  23.0",
      "text/html": "<div>\n<style scoped>\n    .dataframe tbody tr th:only-of-type {\n        vertical-align: middle;\n    }\n\n    .dataframe tbody tr th {\n        vertical-align: top;\n    }\n\n    .dataframe thead th {\n        text-align: right;\n    }\n</style>\n<table border=\"1\" class=\"dataframe\">\n  <thead>\n    <tr style=\"text-align: right;\">\n      <th></th>\n      <th>customer_id</th>\n      <th>fashion_news</th>\n      <th>club_member</th>\n      <th>age</th>\n    </tr>\n  </thead>\n  <tbody>\n    <tr>\n      <th>0</th>\n      <td>0</td>\n      <td>1</td>\n      <td>1</td>\n      <td>44.0</td>\n    </tr>\n    <tr>\n      <th>1</th>\n      <td>1</td>\n      <td>1</td>\n      <td>1</td>\n      <td>33.0</td>\n    </tr>\n    <tr>\n      <th>2</th>\n      <td>2</td>\n      <td>0</td>\n      <td>0</td>\n      <td>29.0</td>\n    </tr>\n    <tr>\n      <th>3</th>\n      <td>3</td>\n      <td>0</td>\n      <td>0</td>\n      <td>21.0</td>\n    </tr>\n    <tr>\n      <th>4</th>\n      <td>4</td>\n      <td>0</td>\n      <td>0</td>\n      <td>23.0</td>\n    </tr>\n  </tbody>\n</table>\n</div>"
     },
     "execution_count": 113,
     "metadata": {},
     "output_type": "execute_result"
    }
   ],
   "source": [
    "cus_df.head()"
   ],
   "metadata": {
    "collapsed": false,
    "pycharm": {
     "name": "#%%\n"
    }
   }
  },
  {
   "cell_type": "code",
   "execution_count": 114,
   "outputs": [
    {
     "name": "stdout",
     "output_type": "stream",
     "text": [
      "Customers dataset info:\n",
      "<class 'pandas.core.frame.DataFrame'>\n",
      "RangeIndex: 41253 entries, 0 to 41252\n",
      "Data columns (total 4 columns):\n",
      " #   Column        Non-Null Count  Dtype  \n",
      "---  ------        --------------  -----  \n",
      " 0   customer_id   41253 non-null  int64  \n",
      " 1   fashion_news  41253 non-null  int64  \n",
      " 2   club_member   41253 non-null  int64  \n",
      " 3   age           41120 non-null  float64\n",
      "dtypes: float64(1), int64(3)\n",
      "memory usage: 1.3 MB\n"
     ]
    },
    {
     "data": {
      "text/plain": "None"
     },
     "metadata": {},
     "output_type": "display_data"
    }
   ],
   "source": [
    "print(\"Customers dataset info:\")\n",
    "display(cus_df.info())"
   ],
   "metadata": {
    "collapsed": false,
    "pycharm": {
     "name": "#%%\n"
    }
   }
  },
  {
   "cell_type": "code",
   "execution_count": 115,
   "outputs": [
    {
     "name": "stdout",
     "output_type": "stream",
     "text": [
      "The age null percentage is: 0.0032240079509369014\n"
     ]
    }
   ],
   "source": [
    "#searching null values\n",
    "cus_df.isnull().sum()\n",
    "age_null_percentage = cus_df['age'].isnull().sum()/len(cus_df)\n",
    "print('The age null percentage is: ' + str(age_null_percentage))"
   ],
   "metadata": {
    "collapsed": false,
    "pycharm": {
     "name": "#%%\n"
    }
   }
  },
  {
   "cell_type": "code",
   "execution_count": 116,
   "outputs": [
    {
     "name": "stderr",
     "output_type": "stream",
     "text": [
      "/var/folders/56/z_fc2zs50djg1w4_lzlwcrd80000gn/T/ipykernel_1140/241247659.py:2: FutureWarning: In a future version of pandas all arguments of DataFrame.dropna will be keyword-only.\n",
      "  cus_df = cus_df.dropna('index')\n"
     ]
    }
   ],
   "source": [
    "#removing null values\n",
    "cus_df = cus_df.dropna('index')"
   ],
   "metadata": {
    "collapsed": false,
    "pycharm": {
     "name": "#%%\n"
    }
   }
  },
  {
   "cell_type": "code",
   "execution_count": 117,
   "outputs": [
    {
     "name": "stdout",
     "output_type": "stream",
     "text": [
      "\n",
      "Customers dataset shape:\n"
     ]
    },
    {
     "data": {
      "text/plain": "(41120, 4)"
     },
     "metadata": {},
     "output_type": "display_data"
    },
    {
     "name": "stdout",
     "output_type": "stream",
     "text": [
      "\n"
     ]
    },
    {
     "data": {
      "text/plain": "        customer_id  fashion_news   club_member           age\ncount  41120.000000  41120.000000  41120.000000  41120.000000\nmean   20625.345136      0.442194      0.436406     35.320696\nstd    11907.896730      0.496653      0.495945     12.666097\nmin        0.000000      0.000000      0.000000     16.000000\n25%    10314.750000      0.000000      0.000000     25.000000\n50%    20626.500000      0.000000      0.000000     31.000000\n75%    30936.250000      1.000000      1.000000     46.000000\nmax    41252.000000      1.000000      1.000000     91.000000",
      "text/html": "<div>\n<style scoped>\n    .dataframe tbody tr th:only-of-type {\n        vertical-align: middle;\n    }\n\n    .dataframe tbody tr th {\n        vertical-align: top;\n    }\n\n    .dataframe thead th {\n        text-align: right;\n    }\n</style>\n<table border=\"1\" class=\"dataframe\">\n  <thead>\n    <tr style=\"text-align: right;\">\n      <th></th>\n      <th>customer_id</th>\n      <th>fashion_news</th>\n      <th>club_member</th>\n      <th>age</th>\n    </tr>\n  </thead>\n  <tbody>\n    <tr>\n      <th>count</th>\n      <td>41120.000000</td>\n      <td>41120.000000</td>\n      <td>41120.000000</td>\n      <td>41120.000000</td>\n    </tr>\n    <tr>\n      <th>mean</th>\n      <td>20625.345136</td>\n      <td>0.442194</td>\n      <td>0.436406</td>\n      <td>35.320696</td>\n    </tr>\n    <tr>\n      <th>std</th>\n      <td>11907.896730</td>\n      <td>0.496653</td>\n      <td>0.495945</td>\n      <td>12.666097</td>\n    </tr>\n    <tr>\n      <th>min</th>\n      <td>0.000000</td>\n      <td>0.000000</td>\n      <td>0.000000</td>\n      <td>16.000000</td>\n    </tr>\n    <tr>\n      <th>25%</th>\n      <td>10314.750000</td>\n      <td>0.000000</td>\n      <td>0.000000</td>\n      <td>25.000000</td>\n    </tr>\n    <tr>\n      <th>50%</th>\n      <td>20626.500000</td>\n      <td>0.000000</td>\n      <td>0.000000</td>\n      <td>31.000000</td>\n    </tr>\n    <tr>\n      <th>75%</th>\n      <td>30936.250000</td>\n      <td>1.000000</td>\n      <td>1.000000</td>\n      <td>46.000000</td>\n    </tr>\n    <tr>\n      <th>max</th>\n      <td>41252.000000</td>\n      <td>1.000000</td>\n      <td>1.000000</td>\n      <td>91.000000</td>\n    </tr>\n  </tbody>\n</table>\n</div>"
     },
     "metadata": {},
     "output_type": "display_data"
    }
   ],
   "source": [
    "print(\"\\nCustomers dataset shape:\")\n",
    "display(cus_df.shape)\n",
    "print()\n",
    "display(cus_df.describe())"
   ],
   "metadata": {
    "collapsed": false,
    "pycharm": {
     "name": "#%%\n"
    }
   }
  },
  {
   "cell_type": "code",
   "execution_count": 118,
   "outputs": [
    {
     "data": {
      "text/plain": "              customer_id  fashion_news  club_member       age\ncustomer_id      1.000000      0.005685     0.005425  0.002554\nfashion_news     0.005685      1.000000     0.988320  0.063100\nclub_member      0.005425      0.988320     1.000000  0.065650\nage              0.002554      0.063100     0.065650  1.000000",
      "text/html": "<div>\n<style scoped>\n    .dataframe tbody tr th:only-of-type {\n        vertical-align: middle;\n    }\n\n    .dataframe tbody tr th {\n        vertical-align: top;\n    }\n\n    .dataframe thead th {\n        text-align: right;\n    }\n</style>\n<table border=\"1\" class=\"dataframe\">\n  <thead>\n    <tr style=\"text-align: right;\">\n      <th></th>\n      <th>customer_id</th>\n      <th>fashion_news</th>\n      <th>club_member</th>\n      <th>age</th>\n    </tr>\n  </thead>\n  <tbody>\n    <tr>\n      <th>customer_id</th>\n      <td>1.000000</td>\n      <td>0.005685</td>\n      <td>0.005425</td>\n      <td>0.002554</td>\n    </tr>\n    <tr>\n      <th>fashion_news</th>\n      <td>0.005685</td>\n      <td>1.000000</td>\n      <td>0.988320</td>\n      <td>0.063100</td>\n    </tr>\n    <tr>\n      <th>club_member</th>\n      <td>0.005425</td>\n      <td>0.988320</td>\n      <td>1.000000</td>\n      <td>0.065650</td>\n    </tr>\n    <tr>\n      <th>age</th>\n      <td>0.002554</td>\n      <td>0.063100</td>\n      <td>0.065650</td>\n      <td>1.000000</td>\n    </tr>\n  </tbody>\n</table>\n</div>"
     },
     "execution_count": 118,
     "metadata": {},
     "output_type": "execute_result"
    }
   ],
   "source": [
    "cus_df.corr()"
   ],
   "metadata": {
    "collapsed": false,
    "pycharm": {
     "name": "#%%\n"
    }
   }
  },
  {
   "cell_type": "code",
   "execution_count": 119,
   "outputs": [
    {
     "data": {
      "text/plain": "26.0    2208\n25.0    2193\n24.0    2106\n27.0    1988\n23.0    1841\n        ... \n85.0       5\n82.0       4\n81.0       4\n83.0       1\n91.0       1\nName: age, Length: 70, dtype: int64"
     },
     "metadata": {},
     "output_type": "display_data"
    },
    {
     "data": {
      "text/plain": "<Figure size 640x480 with 1 Axes>",
      "image/png": "[encoded data removed]"
     },
     "metadata": {},
     "output_type": "display_data"
    }
   ],
   "source": [
    "display(pd.value_counts(cus_df['age']))\n",
    "_ = plt.hist(cus_df['age'])\n",
    "plt.show()"
   ],
   "metadata": {
    "collapsed": false,
    "pycharm": {
     "name": "#%%\n"
    }
   }
  },
  {
   "cell_type": "code",
   "execution_count": 120,
   "outputs": [
    {
     "data": {
      "text/plain": "<Figure size 640x480 with 1 Axes>",
      "image/png": "[encoded data removed]"
     },
     "metadata": {},
     "output_type": "display_data"
    }
   ],
   "source": [
    "_ = plt.figure()\n",
    "plt.pie([cus_df['club_member'].value_counts()[1],cus_df['club_member'].value_counts()[0]], labels = ['Member','Not member'])\n",
    "plt.show()"
   ],
   "metadata": {
    "collapsed": false,
    "pycharm": {
     "name": "#%%\n"
    }
   }
  },
  {
   "cell_type": "code",
   "execution_count": 121,
   "outputs": [
    {
     "data": {
      "text/plain": "<Figure size 640x480 with 1 Axes>",
      "image/png": "[encoded data removed]"
     },
     "metadata": {},
     "output_type": "display_data"
    }
   ],
   "source": [
    "_ = plt.figure()\n",
    "plt.pie([cus_df['fashion_news'].value_counts()[1],cus_df['fashion_news'].value_counts()[0]], labels = ['Subscribed','Not subscribed'])\n",
    "plt.show()"
   ],
   "metadata": {
    "collapsed": false,
    "pycharm": {
     "name": "#%%\n"
    }
   }
  },
  {
   "cell_type": "code",
   "execution_count": 122,
   "outputs": [
    {
     "data": {
      "text/plain": "        t_dat  customer_id  article_id\n0  2020-09-02            7         599\n1  2020-09-02            7        2600\n2  2020-09-02            7        2063\n3  2020-09-02            7        5188\n4  2020-09-02           17        5111",
      "text/html": "<div>\n<style scoped>\n    .dataframe tbody tr th:only-of-type {\n        vertical-align: middle;\n    }\n\n    .dataframe tbody tr th {\n        vertical-align: top;\n    }\n\n    .dataframe thead th {\n        text-align: right;\n    }\n</style>\n<table border=\"1\" class=\"dataframe\">\n  <thead>\n    <tr style=\"text-align: right;\">\n      <th></th>\n      <th>t_dat</th>\n      <th>customer_id</th>\n      <th>article_id</th>\n    </tr>\n  </thead>\n  <tbody>\n    <tr>\n      <th>0</th>\n      <td>2020-09-02</td>\n      <td>7</td>\n      <td>599</td>\n    </tr>\n    <tr>\n      <th>1</th>\n      <td>2020-09-02</td>\n      <td>7</td>\n      <td>2600</td>\n    </tr>\n    <tr>\n      <th>2</th>\n      <td>2020-09-02</td>\n      <td>7</td>\n      <td>2063</td>\n    </tr>\n    <tr>\n      <th>3</th>\n      <td>2020-09-02</td>\n      <td>7</td>\n      <td>5188</td>\n    </tr>\n    <tr>\n      <th>4</th>\n      <td>2020-09-02</td>\n      <td>17</td>\n      <td>5111</td>\n    </tr>\n  </tbody>\n</table>\n</div>"
     },
     "execution_count": 122,
     "metadata": {},
     "output_type": "execute_result"
    }
   ],
   "source": [
    "tra_df.head()"
   ],
   "metadata": {
    "collapsed": false,
    "pycharm": {
     "name": "#%%\n"
    }
   }
  },
  {
   "cell_type": "code",
   "execution_count": 123,
   "outputs": [
    {
     "name": "stdout",
     "output_type": "stream",
     "text": [
      "Transactions dataset info:\n",
      "<class 'pandas.core.frame.DataFrame'>\n",
      "RangeIndex: 369113 entries, 0 to 369112\n",
      "Data columns (total 3 columns):\n",
      " #   Column       Non-Null Count   Dtype \n",
      "---  ------       --------------   ----- \n",
      " 0   t_dat        369113 non-null  object\n",
      " 1   customer_id  369113 non-null  int64 \n",
      " 2   article_id   369113 non-null  int64 \n",
      "dtypes: int64(2), object(1)\n",
      "memory usage: 8.4+ MB\n"
     ]
    },
    {
     "data": {
      "text/plain": "None"
     },
     "metadata": {},
     "output_type": "display_data"
    },
    {
     "name": "stdout",
     "output_type": "stream",
     "text": [
      "\n",
      "Transactions dataset shape:\n"
     ]
    },
    {
     "data": {
      "text/plain": "(369113, 3)"
     },
     "metadata": {},
     "output_type": "display_data"
    }
   ],
   "source": [
    "print(\"Transactions dataset info:\")\n",
    "display(tra_df.info())\n",
    "print(\"\\nTransactions dataset shape:\")\n",
    "display(tra_df.shape)"
   ],
   "metadata": {
    "collapsed": false,
    "pycharm": {
     "name": "#%%\n"
    }
   }
  },
  {
   "cell_type": "code",
   "source": [
    "purchaseNumber = {}\n",
    "for i in range(len(cus_df['customer_id'])):\n",
    "    age = cus_df.iloc[i]['age']\n",
    "    customer = cus_df.iloc[i]['customer_id']\n",
    "    if age in purchaseNumber.keys():\n",
    "        purchaseNumber[age][0] += tra_df['customer_id'].value_counts()[customer]\n",
    "        purchaseNumber[age][1] += 1\n",
    "    else:\n",
    "        purchaseNumber[age] = [tra_df['customer_id'].value_counts()[customer], 1]\n",
    "x = purchaseNumber.keys()\n",
    "y = []\n",
    "for value in purchaseNumber.values():\n",
    "    y.append(value[0]/value[1])\n",
    "\n",
    "plt.scatter(x,y)\n",
    "plt.title('Average purchases by age')\n",
    "plt.xlabel('Age')\n",
    "plt.ylabel('Average purchases')\n",
    "plt.show()"
   ],
   "metadata": {
    "collapsed": false,
    "pycharm": {
     "name": "#%%\n"
    }
   },
   "execution_count": 124,
   "outputs": [
    {
     "data": {
      "text/plain": "<Figure size 640x480 with 1 Axes>",
      "image/png": "[encoded data removed]"
     },
     "metadata": {},
     "output_type": "display_data"
    }
   ]
  },
  {
   "cell_type": "code",
   "execution_count": 129,
   "outputs": [
    {
     "name": "stderr",
     "output_type": "stream",
     "text": [
      "/var/folders/56/z_fc2zs50djg1w4_lzlwcrd80000gn/T/ipykernel_1140/3473923769.py:4: SettingWithCopyWarning: \n",
      "A value is trying to be set on a copy of a slice from a DataFrame.\n",
      "Try using .loc[row_indexer,col_indexer] = value instead\n",
      "\n",
      "See the caveats in the documentation: https://pandas.pydata.org/pandas-docs/stable/user_guide/indexing.html#returning-a-view-versus-a-copy\n",
      "  cus_df['age_range'] = pd.cut(cus_df.age, thresholds, labels = ranges, include_lowest=True)\n"
     ]
    },
    {
     "data": {
      "text/plain": "age_range\n0-10          0\n11-20      3383\n21-30     18354\n31-40      6430\n41-50      6858\n51-60      5025\n61-70       931\n71-80       128\n81-90        11\n91-100        0\ndtype: int64"
     },
     "execution_count": 129,
     "metadata": {},
     "output_type": "execute_result"
    }
   ],
   "source": [
    "#member_subscription_byage = pd.DataFrame()\n",
    "thresholds = [0,11, 21, 31, 41, 51, 61, 71, 81, 91, 101]\n",
    "ranges = ['0-10','11-20','21-30','31-40','41-50','51-60','61-70','71-80','81-90','91-100']\n",
    "cus_df['age_range'] = pd.cut(cus_df.age, thresholds, labels = ranges, include_lowest=True)\n",
    "cus_df\n",
    "age_ranges = cus_df.groupby('age_range').size()\n",
    "age_ranges\n",
    "#plt.hist([['text'],df2['printed']],\n",
    " #         bins=100, range=(1,100), stacked=True, color = ['r','g'])"
   ],
   "metadata": {
    "collapsed": false,
    "pycharm": {
     "name": "#%%\n"
    }
   }
  },
  {
   "cell_type": "code",
   "execution_count": 150,
   "outputs": [
    {
     "data": {
      "text/plain": "  Age range  Count\n0      0-10      0\n1     11-20   3383\n2     21-30  18354\n3     31-40   6430\n4     41-50   6858\n5     51-60   5025\n6     61-70    931\n7     71-80    128\n8     81-90     11\n9    91-100      0",
      "text/html": "<div>\n<style scoped>\n    .dataframe tbody tr th:only-of-type {\n        vertical-align: middle;\n    }\n\n    .dataframe tbody tr th {\n        vertical-align: top;\n    }\n\n    .dataframe thead th {\n        text-align: right;\n    }\n</style>\n<table border=\"1\" class=\"dataframe\">\n  <thead>\n    <tr style=\"text-align: right;\">\n      <th></th>\n      <th>Age range</th>\n      <th>Count</th>\n    </tr>\n  </thead>\n  <tbody>\n    <tr>\n      <th>0</th>\n      <td>0-10</td>\n      <td>0</td>\n    </tr>\n    <tr>\n      <th>1</th>\n      <td>11-20</td>\n      <td>3383</td>\n    </tr>\n    <tr>\n      <th>2</th>\n      <td>21-30</td>\n      <td>18354</td>\n    </tr>\n    <tr>\n      <th>3</th>\n      <td>31-40</td>\n      <td>6430</td>\n    </tr>\n    <tr>\n      <th>4</th>\n      <td>41-50</td>\n      <td>6858</td>\n    </tr>\n    <tr>\n      <th>5</th>\n      <td>51-60</td>\n      <td>5025</td>\n    </tr>\n    <tr>\n      <th>6</th>\n      <td>61-70</td>\n      <td>931</td>\n    </tr>\n    <tr>\n      <th>7</th>\n      <td>71-80</td>\n      <td>128</td>\n    </tr>\n    <tr>\n      <th>8</th>\n      <td>81-90</td>\n      <td>11</td>\n    </tr>\n    <tr>\n      <th>9</th>\n      <td>91-100</td>\n      <td>0</td>\n    </tr>\n  </tbody>\n</table>\n</div>"
     },
     "execution_count": 150,
     "metadata": {},
     "output_type": "execute_result"
    }
   ],
   "source": [
    "age_ranges_df = pd.DataFrame([age_ranges]).T.reset_index()\n",
    "age_ranges_df.columns = ['Age range', 'Count']\n",
    "age_ranges_df"
   ],
   "metadata": {
    "collapsed": false,
    "pycharm": {
     "name": "#%%\n"
    }
   }
  },
  {
   "cell_type": "code",
   "execution_count": 152,
   "outputs": [
    {
     "data": {
      "text/plain": "   age_group  club_member  count\n0       0-10            0      0\n1       0-10            1      0\n2      11-20            0   1700\n3      11-20            1   1683\n4      21-30            0  11117\n5      21-30            1   7237\n6      31-40            0   3730\n7      31-40            1   2700\n8      41-50            0   3684\n9      41-50            1   3174\n10     51-60            0   2499\n11     51-60            1   2526\n12     61-70            0    390\n13     61-70            1    541\n14     71-80            0     49\n15     71-80            1     79\n16     81-90            0      6\n17     81-90            1      5\n18    91-100            0      0\n19    91-100            1      0",
      "text/html": "<div>\n<style scoped>\n    .dataframe tbody tr th:only-of-type {\n        vertical-align: middle;\n    }\n\n    .dataframe tbody tr th {\n        vertical-align: top;\n    }\n\n    .dataframe thead th {\n        text-align: right;\n    }\n</style>\n<table border=\"1\" class=\"dataframe\">\n  <thead>\n    <tr style=\"text-align: right;\">\n      <th></th>\n      <th>age_group</th>\n      <th>club_member</th>\n      <th>count</th>\n    </tr>\n  </thead>\n  <tbody>\n    <tr>\n      <th>0</th>\n      <td>0-10</td>\n      <td>0</td>\n      <td>0</td>\n    </tr>\n    <tr>\n      <th>1</th>\n      <td>0-10</td>\n      <td>1</td>\n      <td>0</td>\n    </tr>\n    <tr>\n      <th>2</th>\n      <td>11-20</td>\n      <td>0</td>\n      <td>1700</td>\n    </tr>\n    <tr>\n      <th>3</th>\n      <td>11-20</td>\n      <td>1</td>\n      <td>1683</td>\n    </tr>\n    <tr>\n      <th>4</th>\n      <td>21-30</td>\n      <td>0</td>\n      <td>11117</td>\n    </tr>\n    <tr>\n      <th>5</th>\n      <td>21-30</td>\n      <td>1</td>\n      <td>7237</td>\n    </tr>\n    <tr>\n      <th>6</th>\n      <td>31-40</td>\n      <td>0</td>\n      <td>3730</td>\n    </tr>\n    <tr>\n      <th>7</th>\n      <td>31-40</td>\n      <td>1</td>\n      <td>2700</td>\n    </tr>\n    <tr>\n      <th>8</th>\n      <td>41-50</td>\n      <td>0</td>\n      <td>3684</td>\n    </tr>\n    <tr>\n      <th>9</th>\n      <td>41-50</td>\n      <td>1</td>\n      <td>3174</td>\n    </tr>\n    <tr>\n      <th>10</th>\n      <td>51-60</td>\n      <td>0</td>\n      <td>2499</td>\n    </tr>\n    <tr>\n      <th>11</th>\n      <td>51-60</td>\n      <td>1</td>\n      <td>2526</td>\n    </tr>\n    <tr>\n      <th>12</th>\n      <td>61-70</td>\n      <td>0</td>\n      <td>390</td>\n    </tr>\n    <tr>\n      <th>13</th>\n      <td>61-70</td>\n      <td>1</td>\n      <td>541</td>\n    </tr>\n    <tr>\n      <th>14</th>\n      <td>71-80</td>\n      <td>0</td>\n      <td>49</td>\n    </tr>\n    <tr>\n      <th>15</th>\n      <td>71-80</td>\n      <td>1</td>\n      <td>79</td>\n    </tr>\n    <tr>\n      <th>16</th>\n      <td>81-90</td>\n      <td>0</td>\n      <td>6</td>\n    </tr>\n    <tr>\n      <th>17</th>\n      <td>81-90</td>\n      <td>1</td>\n      <td>5</td>\n    </tr>\n    <tr>\n      <th>18</th>\n      <td>91-100</td>\n      <td>0</td>\n      <td>0</td>\n    </tr>\n    <tr>\n      <th>19</th>\n      <td>91-100</td>\n      <td>1</td>\n      <td>0</td>\n    </tr>\n  </tbody>\n</table>\n</div>"
     },
     "execution_count": 152,
     "metadata": {},
     "output_type": "execute_result"
    }
   ],
   "source": [
    "members_by_age_df = cus_df.groupby(['age_range', 'club_member']).count().reset_index()\n",
    "members_by_age_df = members_by_age_df.drop(columns=['fashion_news', 'age'])\n",
    "members_by_age_df.columns = ['age_group', 'club_member', 'count']\n",
    "members_by_age_df"
   ],
   "metadata": {
    "collapsed": false,
    "pycharm": {
     "name": "#%%\n"
    }
   }
  },
  {
   "cell_type": "code",
   "execution_count": null,
   "outputs": [],
   "source": [],
   "metadata": {
    "collapsed": false,
    "pycharm": {
     "name": "#%%\n"
    }
   }
  }
 ],
 "metadata": {
  "kernelspec": {
   "display_name": "Python 3",
   "language": "python",
   "name": "python3"
  },
  "language_info": {
   "codemirror_mode": {
    "name": "ipython",
    "version": 2
   },
   "file_extension": ".py",
   "mimetype": "text/x-python",
   "name": "python",
   "nbconvert_exporter": "python",
   "pygments_lexer": "ipython2",
   "version": "2.7.6"
  }
 },
 "nbformat": 4,
 "nbformat_minor": 0
}