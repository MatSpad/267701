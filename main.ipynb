{
 "cells": [
  {
   "cell_type": "code",
   "execution_count": 305,
   "outputs": [],
   "source": [
    "import numpy as np\n",
    "import pandas as pd\n",
    "import matplotlib.pyplot as plt\n",
    "import seaborn as sns\n",
    "%matplotlib inline"
   ],
   "metadata": {
    "collapsed": false,
    "pycharm": {
     "name": "#%%\n"
    }
   }
  },
  {
   "cell_type": "code",
   "execution_count": 306,
   "outputs": [],
   "source": [
    "art_df = pd.read_csv('Data/recsys_articles.csv')\n",
    "cus_df = pd.read_csv('Data/recsys_customers.csv')\n",
    "tra_df = pd.read_csv('Data/recsys_transactions.csv')"
   ],
   "metadata": {
    "collapsed": false,
    "pycharm": {
     "name": "#%%\n"
    }
   }
  },
  {
   "cell_type": "code",
   "execution_count": 307,
   "outputs": [
    {
     "data": {
      "text/plain": "   article_id                     prod_name  product_type product_type_name  \\\n0           0           20 den 1p Stockings           304  Underwear Tights   \n1           1     Shape Up 30 den 1p Tights           273   Leggings/Tights   \n2           2      Support 40 den 1p Tights           304  Underwear Tights   \n3           3             200 den 1p Tights           304  Underwear Tights   \n4           4  Control Top 50 den 1p Tights           273   Leggings/Tights   \n\n   product_group_name  colour_group colour_group_name  perceived_colour_value  \\\n0      Socks & Tights             9             Black                       4   \n1  Garment Lower body             9             Black                       4   \n2      Socks & Tights             9             Black                       4   \n3      Socks & Tights             9             Black                       4   \n4  Garment Lower body             9             Black                       4   \n\n  perceived_colour_value_name  perceived_colour_master  ... department  \\\n0                        Dark                        5  ...       3608   \n1                        Dark                        5  ...       3608   \n2                        Dark                        5  ...       3608   \n3                        Dark                        5  ...       3608   \n4                        Dark                        5  ...       3608   \n\n   department_name index        index_name index_group  index_group_name  \\\n0     Tights basic     B  Lingeries/Tights           1        Ladieswear   \n1     Tights basic     B  Lingeries/Tights           1        Ladieswear   \n2     Tights basic     B  Lingeries/Tights           1        Ladieswear   \n3     Tights basic     B  Lingeries/Tights           1        Ladieswear   \n4     Tights basic     B  Lingeries/Tights           1        Ladieswear   \n\n  section                    section_name garment_group  garment_group_name  \n0      62  Womens Nightwear, Socks & Tigh          1021    Socks and Tights  \n1      62  Womens Nightwear, Socks & Tigh          1021    Socks and Tights  \n2      62  Womens Nightwear, Socks & Tigh          1021    Socks and Tights  \n3      62  Womens Nightwear, Socks & Tigh          1021    Socks and Tights  \n4      62  Womens Nightwear, Socks & Tigh          1021    Socks and Tights  \n\n[5 rows x 21 columns]",
      "text/html": "<div>\n<style scoped>\n    .dataframe tbody tr th:only-of-type {\n        vertical-align: middle;\n    }\n\n    .dataframe tbody tr th {\n        vertical-align: top;\n    }\n\n    .dataframe thead th {\n        text-align: right;\n    }\n</style>\n<table border=\"1\" class=\"dataframe\">\n  <thead>\n    <tr style=\"text-align: right;\">\n      <th></th>\n      <th>article_id</th>\n      <th>prod_name</th>\n      <th>product_type</th>\n      <th>product_type_name</th>\n      <th>product_group_name</th>\n      <th>colour_group</th>\n      <th>colour_group_name</th>\n      <th>perceived_colour_value</th>\n      <th>perceived_colour_value_name</th>\n      <th>perceived_colour_master</th>\n      <th>...</th>\n      <th>department</th>\n      <th>department_name</th>\n      <th>index</th>\n      <th>index_name</th>\n      <th>index_group</th>\n      <th>index_group_name</th>\n      <th>section</th>\n      <th>section_name</th>\n      <th>garment_group</th>\n      <th>garment_group_name</th>\n    </tr>\n  </thead>\n  <tbody>\n    <tr>\n      <th>0</th>\n      <td>0</td>\n      <td>20 den 1p Stockings</td>\n      <td>304</td>\n      <td>Underwear Tights</td>\n      <td>Socks &amp; Tights</td>\n      <td>9</td>\n      <td>Black</td>\n      <td>4</td>\n      <td>Dark</td>\n      <td>5</td>\n      <td>...</td>\n      <td>3608</td>\n      <td>Tights basic</td>\n      <td>B</td>\n      <td>Lingeries/Tights</td>\n      <td>1</td>\n      <td>Ladieswear</td>\n      <td>62</td>\n      <td>Womens Nightwear, Socks &amp; Tigh</td>\n      <td>1021</td>\n      <td>Socks and Tights</td>\n    </tr>\n    <tr>\n      <th>1</th>\n      <td>1</td>\n      <td>Shape Up 30 den 1p Tights</td>\n      <td>273</td>\n      <td>Leggings/Tights</td>\n      <td>Garment Lower body</td>\n      <td>9</td>\n      <td>Black</td>\n      <td>4</td>\n      <td>Dark</td>\n      <td>5</td>\n      <td>...</td>\n      <td>3608</td>\n      <td>Tights basic</td>\n      <td>B</td>\n      <td>Lingeries/Tights</td>\n      <td>1</td>\n      <td>Ladieswear</td>\n      <td>62</td>\n      <td>Womens Nightwear, Socks &amp; Tigh</td>\n      <td>1021</td>\n      <td>Socks and Tights</td>\n    </tr>\n    <tr>\n      <th>2</th>\n      <td>2</td>\n      <td>Support 40 den 1p Tights</td>\n      <td>304</td>\n      <td>Underwear Tights</td>\n      <td>Socks &amp; Tights</td>\n      <td>9</td>\n      <td>Black</td>\n      <td>4</td>\n      <td>Dark</td>\n      <td>5</td>\n      <td>...</td>\n      <td>3608</td>\n      <td>Tights basic</td>\n      <td>B</td>\n      <td>Lingeries/Tights</td>\n      <td>1</td>\n      <td>Ladieswear</td>\n      <td>62</td>\n      <td>Womens Nightwear, Socks &amp; Tigh</td>\n      <td>1021</td>\n      <td>Socks and Tights</td>\n    </tr>\n    <tr>\n      <th>3</th>\n      <td>3</td>\n      <td>200 den 1p Tights</td>\n      <td>304</td>\n      <td>Underwear Tights</td>\n      <td>Socks &amp; Tights</td>\n      <td>9</td>\n      <td>Black</td>\n      <td>4</td>\n      <td>Dark</td>\n      <td>5</td>\n      <td>...</td>\n      <td>3608</td>\n      <td>Tights basic</td>\n      <td>B</td>\n      <td>Lingeries/Tights</td>\n      <td>1</td>\n      <td>Ladieswear</td>\n      <td>62</td>\n      <td>Womens Nightwear, Socks &amp; Tigh</td>\n      <td>1021</td>\n      <td>Socks and Tights</td>\n    </tr>\n    <tr>\n      <th>4</th>\n      <td>4</td>\n      <td>Control Top 50 den 1p Tights</td>\n      <td>273</td>\n      <td>Leggings/Tights</td>\n      <td>Garment Lower body</td>\n      <td>9</td>\n      <td>Black</td>\n      <td>4</td>\n      <td>Dark</td>\n      <td>5</td>\n      <td>...</td>\n      <td>3608</td>\n      <td>Tights basic</td>\n      <td>B</td>\n      <td>Lingeries/Tights</td>\n      <td>1</td>\n      <td>Ladieswear</td>\n      <td>62</td>\n      <td>Womens Nightwear, Socks &amp; Tigh</td>\n      <td>1021</td>\n      <td>Socks and Tights</td>\n    </tr>\n  </tbody>\n</table>\n<p>5 rows × 21 columns</p>\n</div>"
     },
     "execution_count": 307,
     "metadata": {},
     "output_type": "execute_result"
    }
   ],
   "source": [
    "art_df.head()"
   ],
   "metadata": {
    "collapsed": false,
    "pycharm": {
     "name": "#%%\n"
    }
   }
  },
  {
   "cell_type": "code",
   "execution_count": 308,
   "outputs": [
    {
     "data": {
      "text/plain": "   customer_id  fashion_news  club_member   age\n0            0             1            1  44.0\n1            1             1            1  33.0\n2            2             0            0  29.0\n3            3             0            0  21.0\n4            4             0            0  23.0",
      "text/html": "<div>\n<style scoped>\n    .dataframe tbody tr th:only-of-type {\n        vertical-align: middle;\n    }\n\n    .dataframe tbody tr th {\n        vertical-align: top;\n    }\n\n    .dataframe thead th {\n        text-align: right;\n    }\n</style>\n<table border=\"1\" class=\"dataframe\">\n  <thead>\n    <tr style=\"text-align: right;\">\n      <th></th>\n      <th>customer_id</th>\n      <th>fashion_news</th>\n      <th>club_member</th>\n      <th>age</th>\n    </tr>\n  </thead>\n  <tbody>\n    <tr>\n      <th>0</th>\n      <td>0</td>\n      <td>1</td>\n      <td>1</td>\n      <td>44.0</td>\n    </tr>\n    <tr>\n      <th>1</th>\n      <td>1</td>\n      <td>1</td>\n      <td>1</td>\n      <td>33.0</td>\n    </tr>\n    <tr>\n      <th>2</th>\n      <td>2</td>\n      <td>0</td>\n      <td>0</td>\n      <td>29.0</td>\n    </tr>\n    <tr>\n      <th>3</th>\n      <td>3</td>\n      <td>0</td>\n      <td>0</td>\n      <td>21.0</td>\n    </tr>\n    <tr>\n      <th>4</th>\n      <td>4</td>\n      <td>0</td>\n      <td>0</td>\n      <td>23.0</td>\n    </tr>\n  </tbody>\n</table>\n</div>"
     },
     "execution_count": 308,
     "metadata": {},
     "output_type": "execute_result"
    }
   ],
   "source": [
    "cus_df.head()"
   ],
   "metadata": {
    "collapsed": false,
    "pycharm": {
     "name": "#%%\n"
    }
   }
  },
  {
   "cell_type": "code",
   "execution_count": 309,
   "outputs": [
    {
     "data": {
      "text/plain": "        t_dat  customer_id  article_id\n0  2020-09-02            7         599\n1  2020-09-02            7        2600\n2  2020-09-02            7        2063\n3  2020-09-02            7        5188\n4  2020-09-02           17        5111",
      "text/html": "<div>\n<style scoped>\n    .dataframe tbody tr th:only-of-type {\n        vertical-align: middle;\n    }\n\n    .dataframe tbody tr th {\n        vertical-align: top;\n    }\n\n    .dataframe thead th {\n        text-align: right;\n    }\n</style>\n<table border=\"1\" class=\"dataframe\">\n  <thead>\n    <tr style=\"text-align: right;\">\n      <th></th>\n      <th>t_dat</th>\n      <th>customer_id</th>\n      <th>article_id</th>\n    </tr>\n  </thead>\n  <tbody>\n    <tr>\n      <th>0</th>\n      <td>2020-09-02</td>\n      <td>7</td>\n      <td>599</td>\n    </tr>\n    <tr>\n      <th>1</th>\n      <td>2020-09-02</td>\n      <td>7</td>\n      <td>2600</td>\n    </tr>\n    <tr>\n      <th>2</th>\n      <td>2020-09-02</td>\n      <td>7</td>\n      <td>2063</td>\n    </tr>\n    <tr>\n      <th>3</th>\n      <td>2020-09-02</td>\n      <td>7</td>\n      <td>5188</td>\n    </tr>\n    <tr>\n      <th>4</th>\n      <td>2020-09-02</td>\n      <td>17</td>\n      <td>5111</td>\n    </tr>\n  </tbody>\n</table>\n</div>"
     },
     "execution_count": 309,
     "metadata": {},
     "output_type": "execute_result"
    }
   ],
   "source": [
    "tra_df.head()"
   ],
   "metadata": {
    "collapsed": false,
    "pycharm": {
     "name": "#%%\n"
    }
   }
  },
  {
   "cell_type": "code",
   "execution_count": 310,
   "outputs": [
    {
     "data": {
      "text/plain": "                         article_id  product_type  colour_group  \\\narticle_id                 1.000000     -0.050658     -0.074545   \nproduct_type              -0.050658      1.000000      0.066269   \ncolour_group              -0.074545      0.066269      1.000000   \nperceived_colour_value    -0.001012     -0.097847     -0.145336   \nperceived_colour_master    0.023247     -0.058400     -0.061252   \ndepartment                -0.192431     -0.104305      0.019574   \nindex_group               -0.039236      0.056769     -0.001781   \nsection                   -0.117405     -0.210351     -0.013969   \ngarment_group             -0.078475     -0.230275      0.014029   \n\n                         perceived_colour_value  perceived_colour_master  \\\narticle_id                            -0.001012                 0.023247   \nproduct_type                          -0.097847                -0.058400   \ncolour_group                          -0.145336                -0.061252   \nperceived_colour_value                 1.000000                -0.099237   \nperceived_colour_master               -0.099237                 1.000000   \ndepartment                             0.093978                 0.030247   \nindex_group                            0.037609                -0.007794   \nsection                                0.056261                -0.072562   \ngarment_group                          0.070385                -0.067764   \n\n                         department  index_group   section  garment_group  \narticle_id                -0.192431    -0.039236 -0.117405      -0.078475  \nproduct_type              -0.104305     0.056769 -0.210351      -0.230275  \ncolour_group               0.019574    -0.001781 -0.013969       0.014029  \nperceived_colour_value     0.093978     0.037609  0.056261       0.070385  \nperceived_colour_master    0.030247    -0.007794 -0.072562      -0.067764  \ndepartment                 1.000000     0.637362  0.030296       0.084527  \nindex_group                0.637362     1.000000 -0.228436      -0.178963  \nsection                    0.030296    -0.228436  1.000000       0.554949  \ngarment_group              0.084527    -0.178963  0.554949       1.000000  ",
      "text/html": "<div>\n<style scoped>\n    .dataframe tbody tr th:only-of-type {\n        vertical-align: middle;\n    }\n\n    .dataframe tbody tr th {\n        vertical-align: top;\n    }\n\n    .dataframe thead th {\n        text-align: right;\n    }\n</style>\n<table border=\"1\" class=\"dataframe\">\n  <thead>\n    <tr style=\"text-align: right;\">\n      <th></th>\n      <th>article_id</th>\n      <th>product_type</th>\n      <th>colour_group</th>\n      <th>perceived_colour_value</th>\n      <th>perceived_colour_master</th>\n      <th>department</th>\n      <th>index_group</th>\n      <th>section</th>\n      <th>garment_group</th>\n    </tr>\n  </thead>\n  <tbody>\n    <tr>\n      <th>article_id</th>\n      <td>1.000000</td>\n      <td>-0.050658</td>\n      <td>-0.074545</td>\n      <td>-0.001012</td>\n      <td>0.023247</td>\n      <td>-0.192431</td>\n      <td>-0.039236</td>\n      <td>-0.117405</td>\n      <td>-0.078475</td>\n    </tr>\n    <tr>\n      <th>product_type</th>\n      <td>-0.050658</td>\n      <td>1.000000</td>\n      <td>0.066269</td>\n      <td>-0.097847</td>\n      <td>-0.058400</td>\n      <td>-0.104305</td>\n      <td>0.056769</td>\n      <td>-0.210351</td>\n      <td>-0.230275</td>\n    </tr>\n    <tr>\n      <th>colour_group</th>\n      <td>-0.074545</td>\n      <td>0.066269</td>\n      <td>1.000000</td>\n      <td>-0.145336</td>\n      <td>-0.061252</td>\n      <td>0.019574</td>\n      <td>-0.001781</td>\n      <td>-0.013969</td>\n      <td>0.014029</td>\n    </tr>\n    <tr>\n      <th>perceived_colour_value</th>\n      <td>-0.001012</td>\n      <td>-0.097847</td>\n      <td>-0.145336</td>\n      <td>1.000000</td>\n      <td>-0.099237</td>\n      <td>0.093978</td>\n      <td>0.037609</td>\n      <td>0.056261</td>\n      <td>0.070385</td>\n    </tr>\n    <tr>\n      <th>perceived_colour_master</th>\n      <td>0.023247</td>\n      <td>-0.058400</td>\n      <td>-0.061252</td>\n      <td>-0.099237</td>\n      <td>1.000000</td>\n      <td>0.030247</td>\n      <td>-0.007794</td>\n      <td>-0.072562</td>\n      <td>-0.067764</td>\n    </tr>\n    <tr>\n      <th>department</th>\n      <td>-0.192431</td>\n      <td>-0.104305</td>\n      <td>0.019574</td>\n      <td>0.093978</td>\n      <td>0.030247</td>\n      <td>1.000000</td>\n      <td>0.637362</td>\n      <td>0.030296</td>\n      <td>0.084527</td>\n    </tr>\n    <tr>\n      <th>index_group</th>\n      <td>-0.039236</td>\n      <td>0.056769</td>\n      <td>-0.001781</td>\n      <td>0.037609</td>\n      <td>-0.007794</td>\n      <td>0.637362</td>\n      <td>1.000000</td>\n      <td>-0.228436</td>\n      <td>-0.178963</td>\n    </tr>\n    <tr>\n      <th>section</th>\n      <td>-0.117405</td>\n      <td>-0.210351</td>\n      <td>-0.013969</td>\n      <td>0.056261</td>\n      <td>-0.072562</td>\n      <td>0.030296</td>\n      <td>-0.228436</td>\n      <td>1.000000</td>\n      <td>0.554949</td>\n    </tr>\n    <tr>\n      <th>garment_group</th>\n      <td>-0.078475</td>\n      <td>-0.230275</td>\n      <td>0.014029</td>\n      <td>0.070385</td>\n      <td>-0.067764</td>\n      <td>0.084527</td>\n      <td>-0.178963</td>\n      <td>0.554949</td>\n      <td>1.000000</td>\n    </tr>\n  </tbody>\n</table>\n</div>"
     },
     "execution_count": 310,
     "metadata": {},
     "output_type": "execute_result"
    }
   ],
   "source": [
    "art_df.corr()"
   ],
   "metadata": {
    "collapsed": false,
    "pycharm": {
     "name": "#%%\n"
    }
   }
  },
  {
   "cell_type": "code",
   "execution_count": 311,
   "outputs": [
    {
     "data": {
      "text/plain": "              customer_id  fashion_news  club_member       age\ncustomer_id      1.000000      0.005404     0.005145  0.002554\nfashion_news     0.005404      1.000000     0.988353  0.063100\nclub_member      0.005145      0.988353     1.000000  0.065650\nage              0.002554      0.063100     0.065650  1.000000",
      "text/html": "<div>\n<style scoped>\n    .dataframe tbody tr th:only-of-type {\n        vertical-align: middle;\n    }\n\n    .dataframe tbody tr th {\n        vertical-align: top;\n    }\n\n    .dataframe thead th {\n        text-align: right;\n    }\n</style>\n<table border=\"1\" class=\"dataframe\">\n  <thead>\n    <tr style=\"text-align: right;\">\n      <th></th>\n      <th>customer_id</th>\n      <th>fashion_news</th>\n      <th>club_member</th>\n      <th>age</th>\n    </tr>\n  </thead>\n  <tbody>\n    <tr>\n      <th>customer_id</th>\n      <td>1.000000</td>\n      <td>0.005404</td>\n      <td>0.005145</td>\n      <td>0.002554</td>\n    </tr>\n    <tr>\n      <th>fashion_news</th>\n      <td>0.005404</td>\n      <td>1.000000</td>\n      <td>0.988353</td>\n      <td>0.063100</td>\n    </tr>\n    <tr>\n      <th>club_member</th>\n      <td>0.005145</td>\n      <td>0.988353</td>\n      <td>1.000000</td>\n      <td>0.065650</td>\n    </tr>\n    <tr>\n      <th>age</th>\n      <td>0.002554</td>\n      <td>0.063100</td>\n      <td>0.065650</td>\n      <td>1.000000</td>\n    </tr>\n  </tbody>\n</table>\n</div>"
     },
     "execution_count": 311,
     "metadata": {},
     "output_type": "execute_result"
    }
   ],
   "source": [
    "cus_df.corr()"
   ],
   "metadata": {
    "collapsed": false,
    "pycharm": {
     "name": "#%%\n"
    }
   }
  },
  {
   "cell_type": "code",
   "execution_count": 312,
   "outputs": [
    {
     "name": "stdout",
     "output_type": "stream",
     "text": [
      "Articles dataset info:\n",
      "<class 'pandas.core.frame.DataFrame'>\n",
      "RangeIndex: 6536 entries, 0 to 6535\n",
      "Data columns (total 21 columns):\n",
      " #   Column                        Non-Null Count  Dtype \n",
      "---  ------                        --------------  ----- \n",
      " 0   article_id                    6536 non-null   int64 \n",
      " 1   prod_name                     6536 non-null   object\n",
      " 2   product_type                  6536 non-null   int64 \n",
      " 3   product_type_name             6536 non-null   object\n",
      " 4   product_group_name            6536 non-null   object\n",
      " 5   colour_group                  6536 non-null   int64 \n",
      " 6   colour_group_name             6536 non-null   object\n",
      " 7   perceived_colour_value        6536 non-null   int64 \n",
      " 8   perceived_colour_value_name   6536 non-null   object\n",
      " 9   perceived_colour_master       6536 non-null   int64 \n",
      " 10  perceived_colour_master_name  6536 non-null   object\n",
      " 11  department                    6536 non-null   int64 \n",
      " 12  department_name               6536 non-null   object\n",
      " 13  index                         6536 non-null   object\n",
      " 14  index_name                    6536 non-null   object\n",
      " 15  index_group                   6536 non-null   int64 \n",
      " 16  index_group_name              6536 non-null   object\n",
      " 17  section                       6536 non-null   int64 \n",
      " 18  section_name                  6536 non-null   object\n",
      " 19  garment_group                 6536 non-null   int64 \n",
      " 20  garment_group_name            6536 non-null   object\n",
      "dtypes: int64(9), object(12)\n",
      "memory usage: 1.0+ MB\n"
     ]
    },
    {
     "data": {
      "text/plain": "None"
     },
     "metadata": {},
     "output_type": "display_data"
    },
    {
     "name": "stdout",
     "output_type": "stream",
     "text": [
      "\n",
      "Articles dataset shape:\n"
     ]
    },
    {
     "data": {
      "text/plain": "(6536, 21)"
     },
     "metadata": {},
     "output_type": "display_data"
    }
   ],
   "source": [
    "print(\"Articles dataset info:\")\n",
    "display(art_df.info())\n",
    "print(\"\\nArticles dataset shape:\")\n",
    "display(art_df.shape)"
   ],
   "metadata": {
    "collapsed": false,
    "pycharm": {
     "name": "#%%\n"
    }
   }
  },
  {
   "cell_type": "code",
   "execution_count": 313,
   "outputs": [
    {
     "name": "stdout",
     "output_type": "stream",
     "text": [
      "Customers dataset info:\n",
      "<class 'pandas.core.frame.DataFrame'>\n",
      "RangeIndex: 41253 entries, 0 to 41252\n",
      "Data columns (total 4 columns):\n",
      " #   Column        Non-Null Count  Dtype  \n",
      "---  ------        --------------  -----  \n",
      " 0   customer_id   41253 non-null  int64  \n",
      " 1   fashion_news  41253 non-null  int64  \n",
      " 2   club_member   41253 non-null  int64  \n",
      " 3   age           41120 non-null  float64\n",
      "dtypes: float64(1), int64(3)\n",
      "memory usage: 1.3 MB\n"
     ]
    },
    {
     "data": {
      "text/plain": "None"
     },
     "metadata": {},
     "output_type": "display_data"
    },
    {
     "name": "stdout",
     "output_type": "stream",
     "text": [
      "\n",
      "Customers dataset shape:\n"
     ]
    },
    {
     "data": {
      "text/plain": "(41253, 4)"
     },
     "metadata": {},
     "output_type": "display_data"
    },
    {
     "name": "stdout",
     "output_type": "stream",
     "text": [
      "\n"
     ]
    },
    {
     "data": {
      "text/plain": "        customer_id  fashion_news   club_member           age\ncount  41253.000000  41253.000000  41253.000000  41120.000000\nmean   20626.000000      0.441495      0.435726     35.320696\nstd    11908.859664      0.496571      0.495858     12.666097\nmin        0.000000      0.000000      0.000000     16.000000\n25%    10313.000000      0.000000      0.000000     25.000000\n50%    20626.000000      0.000000      0.000000     31.000000\n75%    30939.000000      1.000000      1.000000     46.000000\nmax    41252.000000      1.000000      1.000000     91.000000",
      "text/html": "<div>\n<style scoped>\n    .dataframe tbody tr th:only-of-type {\n        vertical-align: middle;\n    }\n\n    .dataframe tbody tr th {\n        vertical-align: top;\n    }\n\n    .dataframe thead th {\n        text-align: right;\n    }\n</style>\n<table border=\"1\" class=\"dataframe\">\n  <thead>\n    <tr style=\"text-align: right;\">\n      <th></th>\n      <th>customer_id</th>\n      <th>fashion_news</th>\n      <th>club_member</th>\n      <th>age</th>\n    </tr>\n  </thead>\n  <tbody>\n    <tr>\n      <th>count</th>\n      <td>41253.000000</td>\n      <td>41253.000000</td>\n      <td>41253.000000</td>\n      <td>41120.000000</td>\n    </tr>\n    <tr>\n      <th>mean</th>\n      <td>20626.000000</td>\n      <td>0.441495</td>\n      <td>0.435726</td>\n      <td>35.320696</td>\n    </tr>\n    <tr>\n      <th>std</th>\n      <td>11908.859664</td>\n      <td>0.496571</td>\n      <td>0.495858</td>\n      <td>12.666097</td>\n    </tr>\n    <tr>\n      <th>min</th>\n      <td>0.000000</td>\n      <td>0.000000</td>\n      <td>0.000000</td>\n      <td>16.000000</td>\n    </tr>\n    <tr>\n      <th>25%</th>\n      <td>10313.000000</td>\n      <td>0.000000</td>\n      <td>0.000000</td>\n      <td>25.000000</td>\n    </tr>\n    <tr>\n      <th>50%</th>\n      <td>20626.000000</td>\n      <td>0.000000</td>\n      <td>0.000000</td>\n      <td>31.000000</td>\n    </tr>\n    <tr>\n      <th>75%</th>\n      <td>30939.000000</td>\n      <td>1.000000</td>\n      <td>1.000000</td>\n      <td>46.000000</td>\n    </tr>\n    <tr>\n      <th>max</th>\n      <td>41252.000000</td>\n      <td>1.000000</td>\n      <td>1.000000</td>\n      <td>91.000000</td>\n    </tr>\n  </tbody>\n</table>\n</div>"
     },
     "metadata": {},
     "output_type": "display_data"
    }
   ],
   "source": [
    "print(\"Customers dataset info:\")\n",
    "display(cus_df.info())\n",
    "print(\"\\nCustomers dataset shape:\")\n",
    "display(cus_df.shape)\n",
    "print()\n",
    "display(cus_df.describe())"
   ],
   "metadata": {
    "collapsed": false,
    "pycharm": {
     "name": "#%%\n"
    }
   }
  },
  {
   "cell_type": "code",
   "execution_count": 314,
   "outputs": [
    {
     "name": "stdout",
     "output_type": "stream",
     "text": [
      "Transactions dataset info:\n",
      "<class 'pandas.core.frame.DataFrame'>\n",
      "RangeIndex: 369113 entries, 0 to 369112\n",
      "Data columns (total 3 columns):\n",
      " #   Column       Non-Null Count   Dtype \n",
      "---  ------       --------------   ----- \n",
      " 0   t_dat        369113 non-null  object\n",
      " 1   customer_id  369113 non-null  int64 \n",
      " 2   article_id   369113 non-null  int64 \n",
      "dtypes: int64(2), object(1)\n",
      "memory usage: 8.4+ MB\n"
     ]
    },
    {
     "data": {
      "text/plain": "None"
     },
     "metadata": {},
     "output_type": "display_data"
    },
    {
     "name": "stdout",
     "output_type": "stream",
     "text": [
      "\n",
      "Transactions dataset shape:\n"
     ]
    },
    {
     "data": {
      "text/plain": "(369113, 3)"
     },
     "metadata": {},
     "output_type": "display_data"
    }
   ],
   "source": [
    "print(\"Transactions dataset info:\")\n",
    "display(tra_df.info())\n",
    "print(\"\\nTransactions dataset shape:\")\n",
    "display(tra_df.shape)"
   ],
   "metadata": {
    "collapsed": false,
    "pycharm": {
     "name": "#%%\n"
    }
   }
  },
  {
   "cell_type": "code",
   "execution_count": 315,
   "outputs": [
    {
     "data": {
      "text/plain": "26.0    2208\n25.0    2193\n24.0    2106\n27.0    1988\n23.0    1841\n        ... \n85.0       5\n82.0       4\n81.0       4\n83.0       1\n91.0       1\nName: age, Length: 70, dtype: int64"
     },
     "metadata": {},
     "output_type": "display_data"
    },
    {
     "data": {
      "text/plain": "<Figure size 640x480 with 1 Axes>",
      "image/png": "[encoded data removed]"
     },
     "metadata": {},
     "output_type": "display_data"
    }
   ],
   "source": [
    "display(pd.value_counts(cus_df['age']))\n",
    "_ = plt.hist(cus_df['age'])\n",
    "plt.show()"
   ],
   "metadata": {
    "collapsed": false,
    "pycharm": {
     "name": "#%%\n"
    }
   }
  },
  {
   "cell_type": "code",
   "execution_count": 316,
   "outputs": [
    {
     "data": {
      "text/plain": "<Figure size 640x480 with 1 Axes>",
      "image/png": "[encoded data removed]"
     },
     "metadata": {},
     "output_type": "display_data"
    }
   ],
   "source": [
    "_ = plt.figure()\n",
    "plt.pie([cus_df['fashion_news'].value_counts()[1],cus_df['fashion_news'].value_counts()[0]], labels = ['Subscribed','Not subscribed'])\n",
    "plt.show()"
   ],
   "metadata": {
    "collapsed": false,
    "pycharm": {
     "name": "#%%\n"
    }
   }
  },
  {
   "cell_type": "code",
   "execution_count": 317,
   "outputs": [
    {
     "data": {
      "text/plain": "<Figure size 640x480 with 1 Axes>",
      "image/png": "[encoded data removed]"
     },
     "metadata": {},
     "output_type": "display_data"
    }
   ],
   "source": [
    "_ = plt.figure()\n",
    "plt.pie([cus_df['club_member'].value_counts()[1],cus_df['club_member'].value_counts()[0]], labels = ['Member','Not member'])\n",
    "plt.show()"
   ],
   "metadata": {
    "collapsed": false,
    "pycharm": {
     "name": "#%%\n"
    }
   }
  },
  {
   "cell_type": "code",
   "execution_count": 318,
   "outputs": [
    {
     "ename": "KeyboardInterrupt",
     "evalue": "",
     "output_type": "error",
     "traceback": [
      "\u001B[1;31m---------------------------------------------------------------------------\u001B[0m",
      "\u001B[1;31mKeyboardInterrupt\u001B[0m                         Traceback (most recent call last)",
      "Cell \u001B[1;32mIn [318], line 5\u001B[0m\n\u001B[0;32m      3\u001B[0m age \u001B[38;5;241m=\u001B[39m cus_df\u001B[38;5;241m.\u001B[39miloc[customer][\u001B[38;5;124m'\u001B[39m\u001B[38;5;124mage\u001B[39m\u001B[38;5;124m'\u001B[39m]\n\u001B[0;32m      4\u001B[0m \u001B[38;5;28;01mif\u001B[39;00m age \u001B[38;5;129;01min\u001B[39;00m purchaseNumber\u001B[38;5;241m.\u001B[39mkeys():\n\u001B[1;32m----> 5\u001B[0m     purchaseNumber[age] \u001B[38;5;241m+\u001B[39m\u001B[38;5;241m=\u001B[39m tra_df[\u001B[38;5;124m'\u001B[39m\u001B[38;5;124mcustomer_id\u001B[39m\u001B[38;5;124m'\u001B[39m]\u001B[38;5;241m.\u001B[39mvalue_counts()[customer]\n\u001B[0;32m      6\u001B[0m \u001B[38;5;28;01melse\u001B[39;00m:\n\u001B[0;32m      7\u001B[0m     purchaseNumber[age] \u001B[38;5;241m=\u001B[39m tra_df[\u001B[38;5;124m'\u001B[39m\u001B[38;5;124mcustomer_id\u001B[39m\u001B[38;5;124m'\u001B[39m]\u001B[38;5;241m.\u001B[39mvalue_counts()[customer]\n",
      "File \u001B[1;32m~\\AppData\\Local\\Programs\\Python\\Python310\\lib\\site-packages\\pandas\\core\\base.py:970\u001B[0m, in \u001B[0;36mIndexOpsMixin.value_counts\u001B[1;34m(self, normalize, sort, ascending, bins, dropna)\u001B[0m\n\u001B[0;32m    884\u001B[0m \u001B[38;5;28;01mdef\u001B[39;00m \u001B[38;5;21mvalue_counts\u001B[39m(\n\u001B[0;32m    885\u001B[0m     \u001B[38;5;28mself\u001B[39m,\n\u001B[0;32m    886\u001B[0m     normalize: \u001B[38;5;28mbool\u001B[39m \u001B[38;5;241m=\u001B[39m \u001B[38;5;28;01mFalse\u001B[39;00m,\n\u001B[1;32m   (...)\u001B[0m\n\u001B[0;32m    890\u001B[0m     dropna: \u001B[38;5;28mbool\u001B[39m \u001B[38;5;241m=\u001B[39m \u001B[38;5;28;01mTrue\u001B[39;00m,\n\u001B[0;32m    891\u001B[0m ):\n\u001B[0;32m    892\u001B[0m     \u001B[38;5;124;03m\"\"\"\u001B[39;00m\n\u001B[0;32m    893\u001B[0m \u001B[38;5;124;03m    Return a Series containing counts of unique values.\u001B[39;00m\n\u001B[0;32m    894\u001B[0m \n\u001B[1;32m   (...)\u001B[0m\n\u001B[0;32m    968\u001B[0m \u001B[38;5;124;03m    dtype: int64\u001B[39;00m\n\u001B[0;32m    969\u001B[0m \u001B[38;5;124;03m    \"\"\"\u001B[39;00m\n\u001B[1;32m--> 970\u001B[0m     \u001B[38;5;28;01mreturn\u001B[39;00m \u001B[43mvalue_counts\u001B[49m\u001B[43m(\u001B[49m\n\u001B[0;32m    971\u001B[0m \u001B[43m        \u001B[49m\u001B[38;5;28;43mself\u001B[39;49m\u001B[43m,\u001B[49m\n\u001B[0;32m    972\u001B[0m \u001B[43m        \u001B[49m\u001B[43msort\u001B[49m\u001B[38;5;241;43m=\u001B[39;49m\u001B[43msort\u001B[49m\u001B[43m,\u001B[49m\n\u001B[0;32m    973\u001B[0m \u001B[43m        \u001B[49m\u001B[43mascending\u001B[49m\u001B[38;5;241;43m=\u001B[39;49m\u001B[43mascending\u001B[49m\u001B[43m,\u001B[49m\n\u001B[0;32m    974\u001B[0m \u001B[43m        \u001B[49m\u001B[43mnormalize\u001B[49m\u001B[38;5;241;43m=\u001B[39;49m\u001B[43mnormalize\u001B[49m\u001B[43m,\u001B[49m\n\u001B[0;32m    975\u001B[0m \u001B[43m        \u001B[49m\u001B[43mbins\u001B[49m\u001B[38;5;241;43m=\u001B[39;49m\u001B[43mbins\u001B[49m\u001B[43m,\u001B[49m\n\u001B[0;32m    976\u001B[0m \u001B[43m        \u001B[49m\u001B[43mdropna\u001B[49m\u001B[38;5;241;43m=\u001B[39;49m\u001B[43mdropna\u001B[49m\u001B[43m,\u001B[49m\n\u001B[0;32m    977\u001B[0m \u001B[43m    \u001B[49m\u001B[43m)\u001B[49m\n",
      "File \u001B[1;32m~\\AppData\\Local\\Programs\\Python\\Python310\\lib\\site-packages\\pandas\\core\\algorithms.py:874\u001B[0m, in \u001B[0;36mvalue_counts\u001B[1;34m(values, sort, ascending, normalize, bins, dropna)\u001B[0m\n\u001B[0;32m    871\u001B[0m         result \u001B[38;5;241m=\u001B[39m Series(counts, index\u001B[38;5;241m=\u001B[39mkeys, name\u001B[38;5;241m=\u001B[39mname)\n\u001B[0;32m    873\u001B[0m \u001B[38;5;28;01mif\u001B[39;00m sort:\n\u001B[1;32m--> 874\u001B[0m     result \u001B[38;5;241m=\u001B[39m \u001B[43mresult\u001B[49m\u001B[38;5;241;43m.\u001B[39;49m\u001B[43msort_values\u001B[49m\u001B[43m(\u001B[49m\u001B[43mascending\u001B[49m\u001B[38;5;241;43m=\u001B[39;49m\u001B[43mascending\u001B[49m\u001B[43m)\u001B[49m\n\u001B[0;32m    876\u001B[0m \u001B[38;5;28;01mif\u001B[39;00m normalize:\n\u001B[0;32m    877\u001B[0m     result \u001B[38;5;241m=\u001B[39m result \u001B[38;5;241m/\u001B[39m counts\u001B[38;5;241m.\u001B[39msum()\n",
      "File \u001B[1;32m~\\AppData\\Local\\Programs\\Python\\Python310\\lib\\site-packages\\pandas\\util\\_decorators.py:311\u001B[0m, in \u001B[0;36mdeprecate_nonkeyword_arguments.<locals>.decorate.<locals>.wrapper\u001B[1;34m(*args, **kwargs)\u001B[0m\n\u001B[0;32m    305\u001B[0m \u001B[38;5;28;01mif\u001B[39;00m \u001B[38;5;28mlen\u001B[39m(args) \u001B[38;5;241m>\u001B[39m num_allow_args:\n\u001B[0;32m    306\u001B[0m     warnings\u001B[38;5;241m.\u001B[39mwarn(\n\u001B[0;32m    307\u001B[0m         msg\u001B[38;5;241m.\u001B[39mformat(arguments\u001B[38;5;241m=\u001B[39marguments),\n\u001B[0;32m    308\u001B[0m         \u001B[38;5;167;01mFutureWarning\u001B[39;00m,\n\u001B[0;32m    309\u001B[0m         stacklevel\u001B[38;5;241m=\u001B[39mstacklevel,\n\u001B[0;32m    310\u001B[0m     )\n\u001B[1;32m--> 311\u001B[0m \u001B[38;5;28;01mreturn\u001B[39;00m func(\u001B[38;5;241m*\u001B[39margs, \u001B[38;5;241m*\u001B[39m\u001B[38;5;241m*\u001B[39mkwargs)\n",
      "File \u001B[1;32m~\\AppData\\Local\\Programs\\Python\\Python310\\lib\\site-packages\\pandas\\core\\series.py:3526\u001B[0m, in \u001B[0;36mSeries.sort_values\u001B[1;34m(self, axis, ascending, inplace, kind, na_position, ignore_index, key)\u001B[0m\n\u001B[0;32m   3524\u001B[0m \u001B[38;5;66;03m# GH 35922. Make sorting stable by leveraging nargsort\u001B[39;00m\n\u001B[0;32m   3525\u001B[0m values_to_sort \u001B[38;5;241m=\u001B[39m ensure_key_mapped(\u001B[38;5;28mself\u001B[39m, key)\u001B[38;5;241m.\u001B[39m_values \u001B[38;5;28;01mif\u001B[39;00m key \u001B[38;5;28;01melse\u001B[39;00m \u001B[38;5;28mself\u001B[39m\u001B[38;5;241m.\u001B[39m_values\n\u001B[1;32m-> 3526\u001B[0m sorted_index \u001B[38;5;241m=\u001B[39m \u001B[43mnargsort\u001B[49m\u001B[43m(\u001B[49m\u001B[43mvalues_to_sort\u001B[49m\u001B[43m,\u001B[49m\u001B[43m \u001B[49m\u001B[43mkind\u001B[49m\u001B[43m,\u001B[49m\u001B[43m \u001B[49m\u001B[38;5;28;43mbool\u001B[39;49m\u001B[43m(\u001B[49m\u001B[43mascending\u001B[49m\u001B[43m)\u001B[49m\u001B[43m,\u001B[49m\u001B[43m \u001B[49m\u001B[43mna_position\u001B[49m\u001B[43m)\u001B[49m\n\u001B[0;32m   3528\u001B[0m result \u001B[38;5;241m=\u001B[39m \u001B[38;5;28mself\u001B[39m\u001B[38;5;241m.\u001B[39m_constructor(\n\u001B[0;32m   3529\u001B[0m     \u001B[38;5;28mself\u001B[39m\u001B[38;5;241m.\u001B[39m_values[sorted_index], index\u001B[38;5;241m=\u001B[39m\u001B[38;5;28mself\u001B[39m\u001B[38;5;241m.\u001B[39mindex[sorted_index]\n\u001B[0;32m   3530\u001B[0m )\n\u001B[0;32m   3532\u001B[0m \u001B[38;5;28;01mif\u001B[39;00m ignore_index:\n",
      "File \u001B[1;32m~\\AppData\\Local\\Programs\\Python\\Python310\\lib\\site-packages\\pandas\\core\\sorting.py:409\u001B[0m, in \u001B[0;36mnargsort\u001B[1;34m(items, kind, ascending, na_position, key, mask)\u001B[0m\n\u001B[0;32m    406\u001B[0m \u001B[38;5;28;01melse\u001B[39;00m:\n\u001B[0;32m    407\u001B[0m     items \u001B[38;5;241m=\u001B[39m np\u001B[38;5;241m.\u001B[39masanyarray(items)\n\u001B[1;32m--> 409\u001B[0m idx \u001B[38;5;241m=\u001B[39m \u001B[43mnp\u001B[49m\u001B[38;5;241;43m.\u001B[39;49m\u001B[43marange\u001B[49m\u001B[43m(\u001B[49m\u001B[38;5;28;43mlen\u001B[39;49m\u001B[43m(\u001B[49m\u001B[43mitems\u001B[49m\u001B[43m)\u001B[49m\u001B[43m)\u001B[49m\n\u001B[0;32m    410\u001B[0m non_nans \u001B[38;5;241m=\u001B[39m items[\u001B[38;5;241m~\u001B[39mmask]\n\u001B[0;32m    411\u001B[0m non_nan_idx \u001B[38;5;241m=\u001B[39m idx[\u001B[38;5;241m~\u001B[39mmask]\n",
      "\u001B[1;31mKeyboardInterrupt\u001B[0m: "
     ]
    }
   ],
   "source": [
    "purchaseNumber = {}\n",
    "for customer in cus_df['customer_id']:\n",
    "    age = cus_df.iloc[customer]['age']\n",
    "    if age in purchaseNumber.keys():\n",
    "        purchaseNumber[age] += tra_df['customer_id'].value_counts()[customer]\n",
    "    else:\n",
    "        purchaseNumber[age] = tra_df['customer_id'].value_counts()[customer]\n",
    "plt.scatter(list(purchaseNumber.keys()), list(purchaseNumber.values()))\n",
    "plt.show()"
   ],
   "metadata": {
    "collapsed": false,
    "pycharm": {
     "name": "#%%\n"
    }
   }
  },
  {
   "cell_type": "code",
   "execution_count": null,
   "outputs": [],
   "source": [
    "sns.pairplot(cus_df, hue='age', corner=True, kind='reg')"
   ],
   "metadata": {
    "collapsed": false,
    "pycharm": {
     "name": "#%%\n"
    }
   }
  }
 ],
 "metadata": {
  "kernelspec": {
   "display_name": "Python 3",
   "language": "python",
   "name": "python3"
  },
  "language_info": {
   "codemirror_mode": {
    "name": "ipython",
    "version": 2
   },
   "file_extension": ".py",
   "mimetype": "text/x-python",
   "name": "python",
   "nbconvert_exporter": "python",
   "pygments_lexer": "ipython2",
   "version": "2.7.6"
  }
 },
 "nbformat": 4,
 "nbformat_minor": 0
}