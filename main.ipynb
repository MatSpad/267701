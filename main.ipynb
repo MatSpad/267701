{
 "cells": [
  {
   "cell_type": "code",
   "metadata": {
    "pycharm": {
     "name": "#%%\n"
    }
   },
   "source": [
    "# Artificial Intelligence and Machine Learning project work on recommendation systems"
   ],
   "execution_count": null,
   "outputs": []
  },
  {
   "cell_type": "markdown",
   "metadata": {},
   "source": [
    "## Group\n",
    "The group is composed by three second year Management and Computer Science students: Maria Chiara Lischi, Gabriele Pacielli, Matteo Spadaccia."
   ]
  },
  {
   "cell_type": "code",
   "execution_count": 1,
   "metadata": {},
   "outputs": [],
   "source": [
    "# IMPORTING PACKAGES\n",
    "\n",
    "import numpy as np\n",
    "import pandas as pd\n",
    "import matplotlib.pyplot as plt\n",
    "%matplotlib inline\n",
    "import seaborn as sns\n",
    "import scipy\n",
    "import sys\n",
    "import os\n",
    "from collections import Counter\n",
    "from sklearn.metrics.pairwise import cosine_similarity\n",
    "from sklearn.neighbors import NearestNeighbors"
   ]
  },
  {
   "cell_type": "markdown",
   "metadata": {},
   "source": [
    "## Exploratory Data Analysis\n",
    "\n",
    "The goal of this Exploratory Data Analysis is to gain a deeper understanding of the dataset, which is composed of three .csv files containing information about the customers, the articles and the transactions involving a clothing store. It is useful to examine, analyze and prepare it for the further steps of this project, which aim to build different recommender systems. We are going to perform analysis in order to understand the characteristics of the dataset, identify patterns and relationships, and detect (and fix) any potential anomalies or issues, using techniques of data visualization, statistical analysis, and data transformation. "
   ]
  },
  {
   "cell_type": "markdown",
   "metadata": {},
   "source": [
    "### Importing, cleaning the dataset and computing minor statistics"
   ]
  },
  {
   "cell_type": "markdown",
   "metadata": {},
   "source": [
    "As said, we want to import our dataset, which is divided into three .csv files. Using pandas library, we are importing it into three different DataFrames."
   ]
  },
  {
   "cell_type": "code",
   "execution_count": 2,
   "metadata": {
    "pycharm": {
     "name": "#%%\n"
    }
   },
   "outputs": [],
   "source": [
    "# SAVING THE FILES CONTAINING THE DATASET INTO PANDAS DATAFRAMES\n",
    "\n",
    "art_df = pd.read_csv('Data/recsys_articles.csv') # dataframe containing information about the articles\n",
    "cus_df = pd.read_csv('Data/recsys_customers.csv') # dataframe containing information about the customers\n",
    "tra_df = pd.read_csv('Data/recsys_transactions.csv') # dataframe containing information about the transactions"
   ]
  },
  {
   "cell_type": "markdown",
   "metadata": {},
   "source": [
    "At first, we want to get some insights about the articles dataset: it contains information about 6536 articles, for each of which we know the value of 21 different attributes (consultable below). Before proceding into deeper analysis, we want to clean the data getting rid of rows with invalid values (which appears under the form of \"Unknown\" and \"undefined\"). We won't investigate for particular correlations because it does not make sense doing so with this dataset taken alone, but we will group the data following different criteria. "
   ]
  },
  {
   "cell_type": "code",
   "execution_count": 3,
   "metadata": {
    "pycharm": {
     "name": "#%%\n"
    }
   },
   "outputs": [
    {
     "name": "stdout",
     "output_type": "stream",
     "text": [
      "Overview of the articles dataset:\n"
     ]
    },
    {
     "data": {
      "text/html": [
       "<div>\n",
       "<style scoped>\n",
       "    .dataframe tbody tr th:only-of-type {\n",
       "        vertical-align: middle;\n",
       "    }\n",
       "\n",
       "    .dataframe tbody tr th {\n",
       "        vertical-align: top;\n",
       "    }\n",
       "\n",
       "    .dataframe thead th {\n",
       "        text-align: right;\n",
       "    }\n",
       "</style>\n",
       "<table border=\"1\" class=\"dataframe\">\n",
       "  <thead>\n",
       "    <tr style=\"text-align: right;\">\n",
       "      <th></th>\n",
       "      <th>article_id</th>\n",
       "      <th>prod_name</th>\n",
       "      <th>product_type</th>\n",
       "      <th>product_type_name</th>\n",
       "      <th>product_group_name</th>\n",
       "      <th>colour_group</th>\n",
       "      <th>colour_group_name</th>\n",
       "      <th>perceived_colour_value</th>\n",
       "      <th>perceived_colour_value_name</th>\n",
       "      <th>perceived_colour_master</th>\n",
       "      <th>...</th>\n",
       "      <th>department</th>\n",
       "      <th>department_name</th>\n",
       "      <th>index</th>\n",
       "      <th>index_name</th>\n",
       "      <th>index_group</th>\n",
       "      <th>index_group_name</th>\n",
       "      <th>section</th>\n",
       "      <th>section_name</th>\n",
       "      <th>garment_group</th>\n",
       "      <th>garment_group_name</th>\n",
       "    </tr>\n",
       "  </thead>\n",
       "  <tbody>\n",
       "    <tr>\n",
       "      <th>0</th>\n",
       "      <td>0</td>\n",
       "      <td>20 den 1p Stockings</td>\n",
       "      <td>304</td>\n",
       "      <td>Underwear Tights</td>\n",
       "      <td>Socks &amp; Tights</td>\n",
       "      <td>9</td>\n",
       "      <td>Black</td>\n",
       "      <td>4</td>\n",
       "      <td>Dark</td>\n",
       "      <td>5</td>\n",
       "      <td>...</td>\n",
       "      <td>3608</td>\n",
       "      <td>Tights basic</td>\n",
       "      <td>B</td>\n",
       "      <td>Lingeries/Tights</td>\n",
       "      <td>1</td>\n",
       "      <td>Ladieswear</td>\n",
       "      <td>62</td>\n",
       "      <td>Womens Nightwear, Socks &amp; Tigh</td>\n",
       "      <td>1021</td>\n",
       "      <td>Socks and Tights</td>\n",
       "    </tr>\n",
       "    <tr>\n",
       "      <th>1</th>\n",
       "      <td>1</td>\n",
       "      <td>Shape Up 30 den 1p Tights</td>\n",
       "      <td>273</td>\n",
       "      <td>Leggings/Tights</td>\n",
       "      <td>Garment Lower body</td>\n",
       "      <td>9</td>\n",
       "      <td>Black</td>\n",
       "      <td>4</td>\n",
       "      <td>Dark</td>\n",
       "      <td>5</td>\n",
       "      <td>...</td>\n",
       "      <td>3608</td>\n",
       "      <td>Tights basic</td>\n",
       "      <td>B</td>\n",
       "      <td>Lingeries/Tights</td>\n",
       "      <td>1</td>\n",
       "      <td>Ladieswear</td>\n",
       "      <td>62</td>\n",
       "      <td>Womens Nightwear, Socks &amp; Tigh</td>\n",
       "      <td>1021</td>\n",
       "      <td>Socks and Tights</td>\n",
       "    </tr>\n",
       "    <tr>\n",
       "      <th>2</th>\n",
       "      <td>2</td>\n",
       "      <td>Support 40 den 1p Tights</td>\n",
       "      <td>304</td>\n",
       "      <td>Underwear Tights</td>\n",
       "      <td>Socks &amp; Tights</td>\n",
       "      <td>9</td>\n",
       "      <td>Black</td>\n",
       "      <td>4</td>\n",
       "      <td>Dark</td>\n",
       "      <td>5</td>\n",
       "      <td>...</td>\n",
       "      <td>3608</td>\n",
       "      <td>Tights basic</td>\n",
       "      <td>B</td>\n",
       "      <td>Lingeries/Tights</td>\n",
       "      <td>1</td>\n",
       "      <td>Ladieswear</td>\n",
       "      <td>62</td>\n",
       "      <td>Womens Nightwear, Socks &amp; Tigh</td>\n",
       "      <td>1021</td>\n",
       "      <td>Socks and Tights</td>\n",
       "    </tr>\n",
       "    <tr>\n",
       "      <th>3</th>\n",
       "      <td>3</td>\n",
       "      <td>200 den 1p Tights</td>\n",
       "      <td>304</td>\n",
       "      <td>Underwear Tights</td>\n",
       "      <td>Socks &amp; Tights</td>\n",
       "      <td>9</td>\n",
       "      <td>Black</td>\n",
       "      <td>4</td>\n",
       "      <td>Dark</td>\n",
       "      <td>5</td>\n",
       "      <td>...</td>\n",
       "      <td>3608</td>\n",
       "      <td>Tights basic</td>\n",
       "      <td>B</td>\n",
       "      <td>Lingeries/Tights</td>\n",
       "      <td>1</td>\n",
       "      <td>Ladieswear</td>\n",
       "      <td>62</td>\n",
       "      <td>Womens Nightwear, Socks &amp; Tigh</td>\n",
       "      <td>1021</td>\n",
       "      <td>Socks and Tights</td>\n",
       "    </tr>\n",
       "    <tr>\n",
       "      <th>4</th>\n",
       "      <td>4</td>\n",
       "      <td>Control Top 50 den 1p Tights</td>\n",
       "      <td>273</td>\n",
       "      <td>Leggings/Tights</td>\n",
       "      <td>Garment Lower body</td>\n",
       "      <td>9</td>\n",
       "      <td>Black</td>\n",
       "      <td>4</td>\n",
       "      <td>Dark</td>\n",
       "      <td>5</td>\n",
       "      <td>...</td>\n",
       "      <td>3608</td>\n",
       "      <td>Tights basic</td>\n",
       "      <td>B</td>\n",
       "      <td>Lingeries/Tights</td>\n",
       "      <td>1</td>\n",
       "      <td>Ladieswear</td>\n",
       "      <td>62</td>\n",
       "      <td>Womens Nightwear, Socks &amp; Tigh</td>\n",
       "      <td>1021</td>\n",
       "      <td>Socks and Tights</td>\n",
       "    </tr>\n",
       "  </tbody>\n",
       "</table>\n",
       "<p>5 rows × 21 columns</p>\n",
       "</div>"
      ],
      "text/plain": [
       "   article_id                     prod_name  product_type product_type_name  \\\n",
       "0           0           20 den 1p Stockings           304  Underwear Tights   \n",
       "1           1     Shape Up 30 den 1p Tights           273   Leggings/Tights   \n",
       "2           2      Support 40 den 1p Tights           304  Underwear Tights   \n",
       "3           3             200 den 1p Tights           304  Underwear Tights   \n",
       "4           4  Control Top 50 den 1p Tights           273   Leggings/Tights   \n",
       "\n",
       "   product_group_name  colour_group colour_group_name  perceived_colour_value  \\\n",
       "0      Socks & Tights             9             Black                       4   \n",
       "1  Garment Lower body             9             Black                       4   \n",
       "2      Socks & Tights             9             Black                       4   \n",
       "3      Socks & Tights             9             Black                       4   \n",
       "4  Garment Lower body             9             Black                       4   \n",
       "\n",
       "  perceived_colour_value_name  perceived_colour_master  ... department  \\\n",
       "0                        Dark                        5  ...       3608   \n",
       "1                        Dark                        5  ...       3608   \n",
       "2                        Dark                        5  ...       3608   \n",
       "3                        Dark                        5  ...       3608   \n",
       "4                        Dark                        5  ...       3608   \n",
       "\n",
       "   department_name index        index_name index_group  index_group_name  \\\n",
       "0     Tights basic     B  Lingeries/Tights           1        Ladieswear   \n",
       "1     Tights basic     B  Lingeries/Tights           1        Ladieswear   \n",
       "2     Tights basic     B  Lingeries/Tights           1        Ladieswear   \n",
       "3     Tights basic     B  Lingeries/Tights           1        Ladieswear   \n",
       "4     Tights basic     B  Lingeries/Tights           1        Ladieswear   \n",
       "\n",
       "  section                    section_name garment_group  garment_group_name  \n",
       "0      62  Womens Nightwear, Socks & Tigh          1021    Socks and Tights  \n",
       "1      62  Womens Nightwear, Socks & Tigh          1021    Socks and Tights  \n",
       "2      62  Womens Nightwear, Socks & Tigh          1021    Socks and Tights  \n",
       "3      62  Womens Nightwear, Socks & Tigh          1021    Socks and Tights  \n",
       "4      62  Womens Nightwear, Socks & Tigh          1021    Socks and Tights  \n",
       "\n",
       "[5 rows x 21 columns]"
      ]
     },
     "metadata": {},
     "output_type": "display_data"
    },
    {
     "name": "stdout",
     "output_type": "stream",
     "text": [
      "Relevant information about the raw articles dataset:\n",
      "<class 'pandas.core.frame.DataFrame'>\n",
      "RangeIndex: 6536 entries, 0 to 6535\n",
      "Data columns (total 21 columns):\n",
      " #   Column                        Non-Null Count  Dtype \n",
      "---  ------                        --------------  ----- \n",
      " 0   article_id                    6536 non-null   int64 \n",
      " 1   prod_name                     6536 non-null   object\n",
      " 2   product_type                  6536 non-null   int64 \n",
      " 3   product_type_name             6536 non-null   object\n",
      " 4   product_group_name            6536 non-null   object\n",
      " 5   colour_group                  6536 non-null   int64 \n",
      " 6   colour_group_name             6536 non-null   object\n",
      " 7   perceived_colour_value        6536 non-null   int64 \n",
      " 8   perceived_colour_value_name   6536 non-null   object\n",
      " 9   perceived_colour_master       6536 non-null   int64 \n",
      " 10  perceived_colour_master_name  6536 non-null   object\n",
      " 11  department                    6536 non-null   int64 \n",
      " 12  department_name               6536 non-null   object\n",
      " 13  index                         6536 non-null   object\n",
      " 14  index_name                    6536 non-null   object\n",
      " 15  index_group                   6536 non-null   int64 \n",
      " 16  index_group_name              6536 non-null   object\n",
      " 17  section                       6536 non-null   int64 \n",
      " 18  section_name                  6536 non-null   object\n",
      " 19  garment_group                 6536 non-null   int64 \n",
      " 20  garment_group_name            6536 non-null   object\n",
      "dtypes: int64(9), object(12)\n",
      "memory usage: 1.0+ MB\n"
     ]
    },
    {
     "data": {
      "text/plain": [
       "None"
      ]
     },
     "metadata": {},
     "output_type": "display_data"
    },
    {
     "name": "stdout",
     "output_type": "stream",
     "text": [
      "Shape of the raw articles dataset:\n"
     ]
    },
    {
     "data": {
      "text/plain": [
       "(6536, 21)"
      ]
     },
     "metadata": {},
     "output_type": "display_data"
    },
    {
     "name": "stdout",
     "output_type": "stream",
     "text": [
      "The percentage of invalid rows (containing undefined values) is: 3.182374541003672%\n",
      "Shape of the cleaned articles dataset:\n"
     ]
    },
    {
     "data": {
      "text/plain": [
       "(6328, 21)"
      ]
     },
     "metadata": {},
     "output_type": "display_data"
    }
   ],
   "source": [
    "# GETTING INFORMATION ABOUT THE ARTICLES DATASET\n",
    "\n",
    "# General information of the raw dataset\n",
    "print('Overview of the articles dataset:')\n",
    "display(art_df.head())\n",
    "\n",
    "print('Relevant information about the raw articles dataset:')\n",
    "display(art_df.info())\n",
    "\n",
    "print('Shape of the raw articles dataset:')\n",
    "display(art_df.shape)\n",
    "\n",
    "# Looking for invalid values under the different attributes and dropping them\n",
    "n_invalid = 0\n",
    "total = len(art_df)\n",
    "for column in art_df:\n",
    "    n_invalid += len(art_df.loc[art_df[column] == 'Unknown'])\n",
    "    n_invalid += len(art_df.loc[art_df[column] == 'undefined'])\n",
    "    art_df = art_df[~art_df[column].isin(['Unknown', 'undefined'])]\n",
    "    \n",
    "# Checking for the percentage of invalid data with respect to the total\n",
    "art_invalid_percentage = n_invalid/total*100\n",
    "print('The percentage of invalid rows (containing undefined values) is: ' + str(art_invalid_percentage) + \"%\")\n",
    "\n",
    "# Printing the new shape of the dataset\n",
    "print('Shape of the cleaned articles dataset:')\n",
    "display(art_df.shape)"
   ]
  },
  {
   "cell_type": "markdown",
   "metadata": {},
   "source": [
    "We focus now on the customers dataset: it contains information about 41253 different customers. For each customer, we have data about their age, and whether or not they have a club membership or are subscribed to the fashion newsletter of the clothing shop. We clean the data by getting rid of rows with invalid values under the attribute \"age\" (which appear under the form of \"null\" values). We also want to compute some statistics about the age (in this case we are interested in the mean, standard deviation and main percentiles) and the \"fashion_news\" and \"club_member\" attributes (in the latter cases we are only interested in the mean, which represents the percentage of customers which, over the total, are respectivley subsribers to the fashion news and club members)."
   ]
  },
  {
   "cell_type": "code",
   "execution_count": 4,
   "metadata": {
    "pycharm": {
     "name": "#%%\n"
    }
   },
   "outputs": [
    {
     "name": "stdout",
     "output_type": "stream",
     "text": [
      "Overview of the customers dataset:\n"
     ]
    },
    {
     "data": {
      "text/html": [
       "<div>\n",
       "<style scoped>\n",
       "    .dataframe tbody tr th:only-of-type {\n",
       "        vertical-align: middle;\n",
       "    }\n",
       "\n",
       "    .dataframe tbody tr th {\n",
       "        vertical-align: top;\n",
       "    }\n",
       "\n",
       "    .dataframe thead th {\n",
       "        text-align: right;\n",
       "    }\n",
       "</style>\n",
       "<table border=\"1\" class=\"dataframe\">\n",
       "  <thead>\n",
       "    <tr style=\"text-align: right;\">\n",
       "      <th></th>\n",
       "      <th>customer_id</th>\n",
       "      <th>fashion_news</th>\n",
       "      <th>club_member</th>\n",
       "      <th>age</th>\n",
       "    </tr>\n",
       "  </thead>\n",
       "  <tbody>\n",
       "    <tr>\n",
       "      <th>0</th>\n",
       "      <td>0</td>\n",
       "      <td>1</td>\n",
       "      <td>1</td>\n",
       "      <td>44.0</td>\n",
       "    </tr>\n",
       "    <tr>\n",
       "      <th>1</th>\n",
       "      <td>1</td>\n",
       "      <td>1</td>\n",
       "      <td>1</td>\n",
       "      <td>33.0</td>\n",
       "    </tr>\n",
       "    <tr>\n",
       "      <th>2</th>\n",
       "      <td>2</td>\n",
       "      <td>0</td>\n",
       "      <td>0</td>\n",
       "      <td>29.0</td>\n",
       "    </tr>\n",
       "    <tr>\n",
       "      <th>3</th>\n",
       "      <td>3</td>\n",
       "      <td>0</td>\n",
       "      <td>0</td>\n",
       "      <td>21.0</td>\n",
       "    </tr>\n",
       "    <tr>\n",
       "      <th>4</th>\n",
       "      <td>4</td>\n",
       "      <td>0</td>\n",
       "      <td>0</td>\n",
       "      <td>23.0</td>\n",
       "    </tr>\n",
       "  </tbody>\n",
       "</table>\n",
       "</div>"
      ],
      "text/plain": [
       "   customer_id  fashion_news  club_member   age\n",
       "0            0             1            1  44.0\n",
       "1            1             1            1  33.0\n",
       "2            2             0            0  29.0\n",
       "3            3             0            0  21.0\n",
       "4            4             0            0  23.0"
      ]
     },
     "metadata": {},
     "output_type": "display_data"
    },
    {
     "name": "stdout",
     "output_type": "stream",
     "text": [
      "Relevant information about the raw customers dataset:\n",
      "<class 'pandas.core.frame.DataFrame'>\n",
      "RangeIndex: 41253 entries, 0 to 41252\n",
      "Data columns (total 4 columns):\n",
      " #   Column        Non-Null Count  Dtype  \n",
      "---  ------        --------------  -----  \n",
      " 0   customer_id   41253 non-null  int64  \n",
      " 1   fashion_news  41253 non-null  int64  \n",
      " 2   club_member   41253 non-null  int64  \n",
      " 3   age           41120 non-null  float64\n",
      "dtypes: float64(1), int64(3)\n",
      "memory usage: 1.3 MB\n"
     ]
    },
    {
     "data": {
      "text/plain": [
       "None"
      ]
     },
     "metadata": {},
     "output_type": "display_data"
    },
    {
     "name": "stdout",
     "output_type": "stream",
     "text": [
      "Shape of the raw customers dataset:\n"
     ]
    },
    {
     "data": {
      "text/plain": [
       "(41253, 4)"
      ]
     },
     "metadata": {},
     "output_type": "display_data"
    },
    {
     "name": "stdout",
     "output_type": "stream",
     "text": [
      "The percentage of null values under the \"age\" attribute is: 0.0032240079509369014\n",
      "Shape of the cleaned customers dataset:\n"
     ]
    },
    {
     "data": {
      "text/plain": [
       "(41120, 4)"
      ]
     },
     "metadata": {},
     "output_type": "display_data"
    },
    {
     "name": "stdout",
     "output_type": "stream",
     "text": [
      "Statistics of the cleaned customers dataset:\n"
     ]
    },
    {
     "data": {
      "text/html": [
       "<div>\n",
       "<style scoped>\n",
       "    .dataframe tbody tr th:only-of-type {\n",
       "        vertical-align: middle;\n",
       "    }\n",
       "\n",
       "    .dataframe tbody tr th {\n",
       "        vertical-align: top;\n",
       "    }\n",
       "\n",
       "    .dataframe thead th {\n",
       "        text-align: right;\n",
       "    }\n",
       "</style>\n",
       "<table border=\"1\" class=\"dataframe\">\n",
       "  <thead>\n",
       "    <tr style=\"text-align: right;\">\n",
       "      <th></th>\n",
       "      <th>customer_id</th>\n",
       "      <th>fashion_news</th>\n",
       "      <th>club_member</th>\n",
       "      <th>age</th>\n",
       "    </tr>\n",
       "  </thead>\n",
       "  <tbody>\n",
       "    <tr>\n",
       "      <th>count</th>\n",
       "      <td>41120.000000</td>\n",
       "      <td>41120.000000</td>\n",
       "      <td>41120.000000</td>\n",
       "      <td>41120.000000</td>\n",
       "    </tr>\n",
       "    <tr>\n",
       "      <th>mean</th>\n",
       "      <td>20625.345136</td>\n",
       "      <td>0.442194</td>\n",
       "      <td>0.436406</td>\n",
       "      <td>35.320696</td>\n",
       "    </tr>\n",
       "    <tr>\n",
       "      <th>std</th>\n",
       "      <td>11907.896730</td>\n",
       "      <td>0.496653</td>\n",
       "      <td>0.495945</td>\n",
       "      <td>12.666097</td>\n",
       "    </tr>\n",
       "    <tr>\n",
       "      <th>min</th>\n",
       "      <td>0.000000</td>\n",
       "      <td>0.000000</td>\n",
       "      <td>0.000000</td>\n",
       "      <td>16.000000</td>\n",
       "    </tr>\n",
       "    <tr>\n",
       "      <th>25%</th>\n",
       "      <td>10314.750000</td>\n",
       "      <td>0.000000</td>\n",
       "      <td>0.000000</td>\n",
       "      <td>25.000000</td>\n",
       "    </tr>\n",
       "    <tr>\n",
       "      <th>50%</th>\n",
       "      <td>20626.500000</td>\n",
       "      <td>0.000000</td>\n",
       "      <td>0.000000</td>\n",
       "      <td>31.000000</td>\n",
       "    </tr>\n",
       "    <tr>\n",
       "      <th>75%</th>\n",
       "      <td>30936.250000</td>\n",
       "      <td>1.000000</td>\n",
       "      <td>1.000000</td>\n",
       "      <td>46.000000</td>\n",
       "    </tr>\n",
       "    <tr>\n",
       "      <th>max</th>\n",
       "      <td>41252.000000</td>\n",
       "      <td>1.000000</td>\n",
       "      <td>1.000000</td>\n",
       "      <td>91.000000</td>\n",
       "    </tr>\n",
       "  </tbody>\n",
       "</table>\n",
       "</div>"
      ],
      "text/plain": [
       "        customer_id  fashion_news   club_member           age\n",
       "count  41120.000000  41120.000000  41120.000000  41120.000000\n",
       "mean   20625.345136      0.442194      0.436406     35.320696\n",
       "std    11907.896730      0.496653      0.495945     12.666097\n",
       "min        0.000000      0.000000      0.000000     16.000000\n",
       "25%    10314.750000      0.000000      0.000000     25.000000\n",
       "50%    20626.500000      0.000000      0.000000     31.000000\n",
       "75%    30936.250000      1.000000      1.000000     46.000000\n",
       "max    41252.000000      1.000000      1.000000     91.000000"
      ]
     },
     "metadata": {},
     "output_type": "display_data"
    },
    {
     "name": "stdout",
     "output_type": "stream",
     "text": [
      "Correlations under the cleaned customers dataset attributes:\n"
     ]
    },
    {
     "data": {
      "text/html": [
       "<div>\n",
       "<style scoped>\n",
       "    .dataframe tbody tr th:only-of-type {\n",
       "        vertical-align: middle;\n",
       "    }\n",
       "\n",
       "    .dataframe tbody tr th {\n",
       "        vertical-align: top;\n",
       "    }\n",
       "\n",
       "    .dataframe thead th {\n",
       "        text-align: right;\n",
       "    }\n",
       "</style>\n",
       "<table border=\"1\" class=\"dataframe\">\n",
       "  <thead>\n",
       "    <tr style=\"text-align: right;\">\n",
       "      <th></th>\n",
       "      <th>customer_id</th>\n",
       "      <th>fashion_news</th>\n",
       "      <th>club_member</th>\n",
       "      <th>age</th>\n",
       "    </tr>\n",
       "  </thead>\n",
       "  <tbody>\n",
       "    <tr>\n",
       "      <th>customer_id</th>\n",
       "      <td>1.000000</td>\n",
       "      <td>0.005685</td>\n",
       "      <td>0.005425</td>\n",
       "      <td>0.002554</td>\n",
       "    </tr>\n",
       "    <tr>\n",
       "      <th>fashion_news</th>\n",
       "      <td>0.005685</td>\n",
       "      <td>1.000000</td>\n",
       "      <td>0.988320</td>\n",
       "      <td>0.063100</td>\n",
       "    </tr>\n",
       "    <tr>\n",
       "      <th>club_member</th>\n",
       "      <td>0.005425</td>\n",
       "      <td>0.988320</td>\n",
       "      <td>1.000000</td>\n",
       "      <td>0.065650</td>\n",
       "    </tr>\n",
       "    <tr>\n",
       "      <th>age</th>\n",
       "      <td>0.002554</td>\n",
       "      <td>0.063100</td>\n",
       "      <td>0.065650</td>\n",
       "      <td>1.000000</td>\n",
       "    </tr>\n",
       "  </tbody>\n",
       "</table>\n",
       "</div>"
      ],
      "text/plain": [
       "              customer_id  fashion_news  club_member       age\n",
       "customer_id      1.000000      0.005685     0.005425  0.002554\n",
       "fashion_news     0.005685      1.000000     0.988320  0.063100\n",
       "club_member      0.005425      0.988320     1.000000  0.065650\n",
       "age              0.002554      0.063100     0.065650  1.000000"
      ]
     },
     "execution_count": 4,
     "metadata": {},
     "output_type": "execute_result"
    }
   ],
   "source": [
    "# GETTING INFORMATION ABOUT THE CUSTOMERS DATASET\n",
    "\n",
    "# General information of the raw customers dataset\n",
    "print('Overview of the customers dataset:')\n",
    "display(cus_df.head())\n",
    "\n",
    "print('Relevant information about the raw customers dataset:')\n",
    "display(cus_df.info())\n",
    "\n",
    "print('Shape of the raw customers dataset:')\n",
    "display(cus_df.shape)\n",
    "\n",
    "# Looking for invalid (in this case \"null\") values under the \"age\" attribute and dropping them\n",
    "cus_df.isnull().sum()\n",
    "age_null_percentage = cus_df['age'].isnull().sum()/len(cus_df)\n",
    "cus_df = cus_df.dropna(axis = 'index')\n",
    "\n",
    "# Checking for the percentage of invalid data with respect to the total\n",
    "print('The percentage of null values under the \"age\" attribute is: ' + str(age_null_percentage))\n",
    "\n",
    "# Exploring the quantitative characteristics of the cleaned dataset\n",
    "print('Shape of the cleaned customers dataset:')\n",
    "display(cus_df.shape)\n",
    "\n",
    "print('Statistics of the cleaned customers dataset:') # here we want to focus on the ones of the \"age\" attribute\n",
    "display(cus_df.describe())\n",
    "\n",
    "# looking for correlations among club membership, fashion news subscriptions and age\n",
    "print('Correlations under the cleaned customers dataset attributes:') \n",
    "cus_df.corr()"
   ]
  },
  {
   "cell_type": "markdown",
   "metadata": {},
   "source": [
    "The last dataset is the transactions dataset, which contains informations about 369113 transactions; specifically the date in which the transaction happened, the costumer who made it and the article that was bought are known. We also checked for invalid values, which do not seems to appear."
   ]
  },
  {
   "cell_type": "code",
   "execution_count": 5,
   "metadata": {},
   "outputs": [
    {
     "name": "stdout",
     "output_type": "stream",
     "text": [
      "Overview of the transaction dataset:\n"
     ]
    },
    {
     "data": {
      "text/html": [
       "<div>\n",
       "<style scoped>\n",
       "    .dataframe tbody tr th:only-of-type {\n",
       "        vertical-align: middle;\n",
       "    }\n",
       "\n",
       "    .dataframe tbody tr th {\n",
       "        vertical-align: top;\n",
       "    }\n",
       "\n",
       "    .dataframe thead th {\n",
       "        text-align: right;\n",
       "    }\n",
       "</style>\n",
       "<table border=\"1\" class=\"dataframe\">\n",
       "  <thead>\n",
       "    <tr style=\"text-align: right;\">\n",
       "      <th></th>\n",
       "      <th>t_dat</th>\n",
       "      <th>customer_id</th>\n",
       "      <th>article_id</th>\n",
       "    </tr>\n",
       "  </thead>\n",
       "  <tbody>\n",
       "    <tr>\n",
       "      <th>0</th>\n",
       "      <td>2020-09-02</td>\n",
       "      <td>7</td>\n",
       "      <td>599</td>\n",
       "    </tr>\n",
       "    <tr>\n",
       "      <th>1</th>\n",
       "      <td>2020-09-02</td>\n",
       "      <td>7</td>\n",
       "      <td>2600</td>\n",
       "    </tr>\n",
       "    <tr>\n",
       "      <th>2</th>\n",
       "      <td>2020-09-02</td>\n",
       "      <td>7</td>\n",
       "      <td>2063</td>\n",
       "    </tr>\n",
       "    <tr>\n",
       "      <th>3</th>\n",
       "      <td>2020-09-02</td>\n",
       "      <td>7</td>\n",
       "      <td>5188</td>\n",
       "    </tr>\n",
       "    <tr>\n",
       "      <th>4</th>\n",
       "      <td>2020-09-02</td>\n",
       "      <td>17</td>\n",
       "      <td>5111</td>\n",
       "    </tr>\n",
       "  </tbody>\n",
       "</table>\n",
       "</div>"
      ],
      "text/plain": [
       "        t_dat  customer_id  article_id\n",
       "0  2020-09-02            7         599\n",
       "1  2020-09-02            7        2600\n",
       "2  2020-09-02            7        2063\n",
       "3  2020-09-02            7        5188\n",
       "4  2020-09-02           17        5111"
      ]
     },
     "metadata": {},
     "output_type": "display_data"
    },
    {
     "name": "stdout",
     "output_type": "stream",
     "text": [
      "Relevant information about the transactions dataset:\n",
      "<class 'pandas.core.frame.DataFrame'>\n",
      "RangeIndex: 369113 entries, 0 to 369112\n",
      "Data columns (total 3 columns):\n",
      " #   Column       Non-Null Count   Dtype \n",
      "---  ------       --------------   ----- \n",
      " 0   t_dat        369113 non-null  object\n",
      " 1   customer_id  369113 non-null  int64 \n",
      " 2   article_id   369113 non-null  int64 \n",
      "dtypes: int64(2), object(1)\n",
      "memory usage: 8.4+ MB\n"
     ]
    },
    {
     "data": {
      "text/plain": [
       "None"
      ]
     },
     "metadata": {},
     "output_type": "display_data"
    },
    {
     "name": "stdout",
     "output_type": "stream",
     "text": [
      "Shape of the transactions dataset:\n"
     ]
    },
    {
     "data": {
      "text/plain": [
       "(369113, 3)"
      ]
     },
     "metadata": {},
     "output_type": "display_data"
    },
    {
     "name": "stdout",
     "output_type": "stream",
     "text": [
      "Average transaction per single user:  9\n",
      "Average sell per single product:  56\n",
      "Invalid values per attribute in the transactions dataset:\n"
     ]
    },
    {
     "data": {
      "text/plain": [
       "t_dat          0\n",
       "customer_id    0\n",
       "article_id     0\n",
       "dtype: int64"
      ]
     },
     "execution_count": 5,
     "metadata": {},
     "output_type": "execute_result"
    }
   ],
   "source": [
    "# GETTING INFORMATION ABOUT THE TRANSACTION DATASET\n",
    "\n",
    "# General information of the transaction dataset\n",
    "print('Overview of the transaction dataset:')\n",
    "display(tra_df.head())\n",
    "\n",
    "print('Relevant information about the transactions dataset:')\n",
    "display(tra_df.info())\n",
    "\n",
    "print('Shape of the transactions dataset:')\n",
    "display(tra_df.shape)\n",
    "\n",
    "print('Average transaction per single user: ', round(len(tra_df['article_id'])/tra_df['customer_id'].nunique()))\n",
    "print('Average sell per single product: ', round(len(tra_df['article_id'])/tra_df['article_id'].nunique()))\n",
    "\n",
    "# Looking for invalid values under the \"age\" attribute\n",
    "print('Invalid values per attribute in the transactions dataset:')\n",
    "tra_df.isnull().sum()"
   ]
  },
  {
   "cell_type": "markdown",
   "metadata": {},
   "source": [
    "### Data visualization\n",
    "Having now a good overview of how the dataset is built, its shape and its attributes, and having cleaned it, we proceed by investingating for more complex statistics of the data and providing some useful graphs, which can help us getting interesting insights about the data."
   ]
  },
  {
   "cell_type": "markdown",
   "metadata": {},
   "source": [
    "We start by considering the age distribution of the costumers, therefore, we plot the related histogram."
   ]
  },
  {
   "cell_type": "code",
   "execution_count": 6,
   "metadata": {
    "pycharm": {
     "name": "#%%\n"
    }
   },
   "outputs": [
    {
     "data": {
      "image/png": "[encoded data removed]",
      "text/plain": [
       "<Figure size 2500x500 with 1 Axes>"
      ]
     },
     "metadata": {},
     "output_type": "display_data"
    }
   ],
   "source": [
    "# AGE DISTRIBUTION AMONG CUSTOMERS\n",
    "\n",
    "# Dividing costumers into age bins of five years\n",
    "thresholds = [1, 6, 11, 16, 21, 26, 31, 36, 41, 46, 51, 56, 61, 66, 71, 76, 81, 86, 91, 96, 101]\n",
    "ranges = ['1-5', '6-10','11-15', '16-20', '21-25', '26-30','31-35', '36-40','41-45', '46-50','51-55', '56-60','61-65', '66-70','71-75', '76-80','81-85', '86-90','91-95', '96-100']\n",
    "cus_df['age_range'] = pd.cut(cus_df.age, thresholds, labels = ranges, include_lowest = True)\n",
    "\n",
    "# Displaying the histogram\n",
    "sns.set_style(\"whitegrid\")\n",
    "plt.figure(figsize = (25,5))\n",
    "plt.subplot(1,2,1)\n",
    "ax = sns.countplot(x = 'age_range', data = cus_df, palette = 'mako')\n",
    "plt.title('Distribution of age for customers');"
   ]
  },
  {
   "cell_type": "markdown",
   "metadata": {},
   "source": [
    "We want now to investigate the percentage of customers that are club members and subscribed to the fashion newsletter with respect to the total. We notice that the two pie charts looks very similar, coherently with what was we discovered before about the correlation of the two attributes, which is very high (circa .98)"
   ]
  },
  {
   "cell_type": "code",
   "execution_count": 7,
   "metadata": {
    "pycharm": {
     "name": "#%%\n"
    }
   },
   "outputs": [
    {
     "name": "stdout",
     "output_type": "stream",
     "text": [
      "Pie chart displaying the club members over the total number of customers:\n"
     ]
    },
    {
     "data": {
      "image/png": "[encoded data removed]",
      "text/plain": [
       "<Figure size 640x480 with 1 Axes>"
      ]
     },
     "metadata": {},
     "output_type": "display_data"
    }
   ],
   "source": [
    "# CLUB MEMBERS / TOTAL CUSTOMERS\n",
    "\n",
    "print('Pie chart displaying the club members over the total number of customers:')\n",
    "_ = plt.figure()\n",
    "plt.pie([cus_df['club_member'].value_counts()[1],cus_df['club_member'].value_counts()[0]], labels = ['Member','Not member'],  labeldistance=1.15, wedgeprops = { 'linewidth' : 3, 'edgecolor' : 'white' }, colors = ['slategrey','lightsteelblue'])\n",
    "plt.show()"
   ]
  },
  {
   "cell_type": "code",
   "execution_count": 8,
   "metadata": {
    "pycharm": {
     "name": "#%%\n"
    }
   },
   "outputs": [
    {
     "name": "stdout",
     "output_type": "stream",
     "text": [
      "Pie chart displaying the subscribers to the fashion over the total number of customers:\n"
     ]
    },
    {
     "data": {
      "image/png": "[encoded data removed]",
      "text/plain": [
       "<Figure size 640x480 with 1 Axes>"
      ]
     },
     "metadata": {},
     "output_type": "display_data"
    }
   ],
   "source": [
    "# FASHION NEWS SUBSCRIBERS / TOTAL CUSTOMERS\n",
    "\n",
    "print('Pie chart displaying the subscribers to the fashion over the total number of customers:')\n",
    "_ = plt.figure()\n",
    "plt.pie([cus_df['fashion_news'].value_counts()[1],cus_df['fashion_news'].value_counts()[0]], labels = ['Subscribed','Not subscribed'],  labeldistance=1.15, wedgeprops = { 'linewidth' : 3, 'edgecolor' : 'white' }, colors = ['slategrey','lightsteelblue'])\n",
    "plt.show()"
   ]
  },
  {
   "cell_type": "markdown",
   "metadata": {},
   "source": [
    "For a more accurate analysis, we investigate for age-ranges in which customers are more likely to be part of the club and subscribe to the fashion news."
   ]
  },
  {
   "cell_type": "code",
   "execution_count": 9,
   "metadata": {},
   "outputs": [
    {
     "data": {
      "image/png": "[encoded data removed]",
      "text/plain": [
       "<Figure size 2500x500 with 1 Axes>"
      ]
     },
     "metadata": {},
     "output_type": "display_data"
    }
   ],
   "source": [
    "# MEMBERS (AND NOT) OF THE CLUB GROUPED BY AGE-RANGES OF 10 YEARS AND\n",
    "\n",
    "# Dividing costumers into age bins of five years\n",
    "age_ranges = cus_df.groupby('age_range').size()\n",
    "age_ranges_df = pd.DataFrame([age_ranges]).T.reset_index()\n",
    "age_ranges_df.columns = ['Age range', 'Count']\n",
    "\n",
    "# Members (and not) of the club grouped by age-ranges of 10 years\n",
    "members_by_age_df = cus_df.groupby(['age_range', 'club_member']).count().reset_index()\n",
    "members_by_age_df = members_by_age_df.drop(columns = ['fashion_news', 'age'])\n",
    "members_by_age_df.columns = ['age_group', 'club_member', 'count']\n",
    "\n",
    "members = []  \n",
    "non_members = []\n",
    "for i in range(int(len(members_by_age_df)/2)):\n",
    "    members.append(members_by_age_df.iloc[2*i+1,2])  \n",
    "    non_members.append(members_by_age_df.iloc[2*i,2])\n",
    "    \n",
    "# Displaying the histogram\n",
    "plt.figure(figsize = (25,5))\n",
    "plt.subplot(1,2,1)\n",
    "plt.bar(ranges, members, color = 'slategrey')\n",
    "plt.bar(ranges, non_members, bottom = members, color = 'lightsteelblue')\n",
    "plt.title('Club members (dark) and non-members (light) grouped by age-ranges of 10 years')\n",
    "plt.show()   "
   ]
  },
  {
   "cell_type": "code",
   "execution_count": 10,
   "metadata": {},
   "outputs": [
    {
     "data": {
      "image/png": "[encoded data removed]",
      "text/plain": [
       "<Figure size 2500x500 with 1 Axes>"
      ]
     },
     "metadata": {},
     "output_type": "display_data"
    }
   ],
   "source": [
    "# FASHION NEWS SUBSCRIBERS (AND NOT) GROUPED BY AGE-RANGES OF 10 YEARS\n",
    "\n",
    "# Fashion news subscribers (and not) grouped by age-ranges of 10 years\n",
    "subscribers_by_age_df = cus_df.groupby(['age_range', 'fashion_news']).count().reset_index()\n",
    "subscribers_by_age_df = subscribers_by_age_df.drop(columns = ['club_member', 'age'])\n",
    "subscribers_by_age_df.columns = ['age_group', 'fashion_news', 'count']\n",
    "\n",
    "subscribers = []  \n",
    "non_subscribers = []\n",
    "for i in range(int(len(subscribers_by_age_df)/2)):\n",
    "    subscribers.append(subscribers_by_age_df.iloc[2*i+1,2])  \n",
    "    non_subscribers.append(subscribers_by_age_df.iloc[2*i,2])\n",
    "\n",
    "# Displaying the histogram\n",
    "plt.figure(figsize = (25,5))\n",
    "plt.subplot(1,2,1)\n",
    "plt.bar(ranges, subscribers, color = 'slategrey')\n",
    "plt.bar(ranges, non_subscribers, bottom = subscribers, color = 'lightsteelblue')\n",
    "plt.title('Fashion news subscribers (dark) and non-subscribers (light) grouped by age-ranges of 10 years')\n",
    "plt.show()  "
   ]
  },
  {
   "cell_type": "markdown",
   "metadata": {},
   "source": [
    "We now focus focus on the average number of purchases made by each age-range ploting the related scatterplot"
   ]
  },
  {
   "cell_type": "code",
   "execution_count": 11,
   "metadata": {
    "pycharm": {
     "name": "#%%\n"
    }
   },
   "outputs": [
    {
     "data": {
      "image/png": "[encoded data removed]",
      "text/plain": [
       "<Figure size 2500x500 with 1 Axes>"
      ]
     },
     "metadata": {},
     "output_type": "display_data"
    }
   ],
   "source": [
    "# AVERAGE NUMBER OF PURCHASES PER AGE\n",
    "\n",
    "# Preparing the data for the visualization:\n",
    "tra_by_cus_df = pd.DataFrame()\n",
    "tra_by_cus_df['purchases'] = tra_df.groupby('customer_id').size()\n",
    "tra_by_cus_df['age_range'] = cus_df['age_range']\n",
    "tra_by_cus_df = tra_by_cus_df.dropna(axis = 'index')\n",
    "\n",
    "tra_by_age_group_df = pd.DataFrame()\n",
    "tra_by_age_group_df['purchases'] = tra_by_cus_df.groupby('age_range').mean()\n",
    "tra_by_age_group_df = tra_by_age_group_df.dropna(axis = 'index')\n",
    "\n",
    "# Displaying the histogram\n",
    "sns.set_style(\"whitegrid\")\n",
    "plt.figure(figsize = (25,5))\n",
    "plt.subplot(1,2,1)\n",
    "ax = sns.countplot(x = 'age_range', data = cus_df, palette = 'mako')\n",
    "plt.title('Average number of purchases per age-range');"
   ]
  },
  {
   "cell_type": "markdown",
   "metadata": {},
   "source": [
    "a = ['product_type', 'colour_group', 'section', 'garment_group']\n",
    "garment_group_name\n",
    "perceived_colour_value_name\n"
   ]
  },
  {
   "cell_type": "markdown",
   "metadata": {},
   "source": [
    "Let's now concentrate on the articles dataset. First we want to gain a better understanding of the attributes. To do so, we will investigate for the range of values each attribute can assume.\n",
    "\n",
    "Merging this analysis with the information gained before about the dataset, we noticed that some pairs of attributes have the same span: this is because in the articles dataset there are pairs of attributes bringing the same information with the difference that one is in categorical value and the other is numerical. Below, the attributes listed pairwise (first numerical then categorical):\n",
    "- product_type and product_type_name;\n",
    "- colour_group and colour_group_name;\n",
    "- perceived_colour_value and perceived_colour_value_name;\n",
    "- perceived_colour_master and perceived_colour_master_name;\n",
    "- index and index_name, index_group and index_group_name;\n",
    "- section and section_name;\n",
    "- garment_group and garment_group_name."
   ]
  },
  {
   "cell_type": "code",
   "execution_count": 12,
   "metadata": {},
   "outputs": [
    {
     "name": "stdout",
     "output_type": "stream",
     "text": [
      "Attributes of the article dataset with their range of values: \n"
     ]
    },
    {
     "data": {
      "text/html": [
       "<div>\n",
       "<style scoped>\n",
       "    .dataframe tbody tr th:only-of-type {\n",
       "        vertical-align: middle;\n",
       "    }\n",
       "\n",
       "    .dataframe tbody tr th {\n",
       "        vertical-align: top;\n",
       "    }\n",
       "\n",
       "    .dataframe thead th {\n",
       "        text-align: right;\n",
       "    }\n",
       "</style>\n",
       "<table border=\"1\" class=\"dataframe\">\n",
       "  <thead>\n",
       "    <tr style=\"text-align: right;\">\n",
       "      <th></th>\n",
       "      <th>attribute</th>\n",
       "      <th>range of values</th>\n",
       "    </tr>\n",
       "  </thead>\n",
       "  <tbody>\n",
       "    <tr>\n",
       "      <th>0</th>\n",
       "      <td>article_id</td>\n",
       "      <td>6328</td>\n",
       "    </tr>\n",
       "    <tr>\n",
       "      <th>1</th>\n",
       "      <td>prod_name</td>\n",
       "      <td>3581</td>\n",
       "    </tr>\n",
       "    <tr>\n",
       "      <th>2</th>\n",
       "      <td>product_type</td>\n",
       "      <td>80</td>\n",
       "    </tr>\n",
       "    <tr>\n",
       "      <th>3</th>\n",
       "      <td>product_type_name</td>\n",
       "      <td>80</td>\n",
       "    </tr>\n",
       "    <tr>\n",
       "      <th>4</th>\n",
       "      <td>product_group_name</td>\n",
       "      <td>11</td>\n",
       "    </tr>\n",
       "    <tr>\n",
       "      <th>5</th>\n",
       "      <td>colour_group</td>\n",
       "      <td>45</td>\n",
       "    </tr>\n",
       "    <tr>\n",
       "      <th>6</th>\n",
       "      <td>colour_group_name</td>\n",
       "      <td>45</td>\n",
       "    </tr>\n",
       "    <tr>\n",
       "      <th>7</th>\n",
       "      <td>perceived_colour_value</td>\n",
       "      <td>6</td>\n",
       "    </tr>\n",
       "    <tr>\n",
       "      <th>8</th>\n",
       "      <td>perceived_colour_value_name</td>\n",
       "      <td>6</td>\n",
       "    </tr>\n",
       "    <tr>\n",
       "      <th>9</th>\n",
       "      <td>perceived_colour_master</td>\n",
       "      <td>16</td>\n",
       "    </tr>\n",
       "    <tr>\n",
       "      <th>10</th>\n",
       "      <td>perceived_colour_master_name</td>\n",
       "      <td>16</td>\n",
       "    </tr>\n",
       "    <tr>\n",
       "      <th>11</th>\n",
       "      <td>department</td>\n",
       "      <td>175</td>\n",
       "    </tr>\n",
       "    <tr>\n",
       "      <th>12</th>\n",
       "      <td>department_name</td>\n",
       "      <td>138</td>\n",
       "    </tr>\n",
       "    <tr>\n",
       "      <th>13</th>\n",
       "      <td>index</td>\n",
       "      <td>9</td>\n",
       "    </tr>\n",
       "    <tr>\n",
       "      <th>14</th>\n",
       "      <td>index_name</td>\n",
       "      <td>9</td>\n",
       "    </tr>\n",
       "    <tr>\n",
       "      <th>15</th>\n",
       "      <td>index_group</td>\n",
       "      <td>5</td>\n",
       "    </tr>\n",
       "    <tr>\n",
       "      <th>16</th>\n",
       "      <td>index_group_name</td>\n",
       "      <td>5</td>\n",
       "    </tr>\n",
       "    <tr>\n",
       "      <th>17</th>\n",
       "      <td>section</td>\n",
       "      <td>42</td>\n",
       "    </tr>\n",
       "    <tr>\n",
       "      <th>18</th>\n",
       "      <td>section_name</td>\n",
       "      <td>42</td>\n",
       "    </tr>\n",
       "    <tr>\n",
       "      <th>19</th>\n",
       "      <td>garment_group</td>\n",
       "      <td>20</td>\n",
       "    </tr>\n",
       "    <tr>\n",
       "      <th>20</th>\n",
       "      <td>garment_group_name</td>\n",
       "      <td>20</td>\n",
       "    </tr>\n",
       "  </tbody>\n",
       "</table>\n",
       "</div>"
      ],
      "text/plain": [
       "                       attribute  range of values\n",
       "0                     article_id             6328\n",
       "1                      prod_name             3581\n",
       "2                   product_type               80\n",
       "3              product_type_name               80\n",
       "4             product_group_name               11\n",
       "5                   colour_group               45\n",
       "6              colour_group_name               45\n",
       "7         perceived_colour_value                6\n",
       "8    perceived_colour_value_name                6\n",
       "9        perceived_colour_master               16\n",
       "10  perceived_colour_master_name               16\n",
       "11                    department              175\n",
       "12               department_name              138\n",
       "13                         index                9\n",
       "14                    index_name                9\n",
       "15                   index_group                5\n",
       "16              index_group_name                5\n",
       "17                       section               42\n",
       "18                  section_name               42\n",
       "19                 garment_group               20\n",
       "20            garment_group_name               20"
      ]
     },
     "metadata": {},
     "output_type": "display_data"
    }
   ],
   "source": [
    "# COMPUTING THE RANGE OF VALUES OF EACH ATTRIBUTE FOR THE ARTICLES DATASET\n",
    "\n",
    "r_o_v = {'attribute': [], 'range of values':[]}\n",
    "for attribute in art_df:\n",
    "    r_o_v['attribute'].append(attribute)\n",
    "    r_o_v['range of values'].append(art_df[attribute].nunique())\n",
    "\n",
    "range_of_values = pd.DataFrame.from_dict(r_o_v)\n",
    "range_of_values.reset_index(drop = True, inplace = True)\n",
    "\n",
    "print(\"Attributes of the article dataset with their range of values: \")\n",
    "display(range_of_values)"
   ]
  },
  {
   "cell_type": "markdown",
   "metadata": {},
   "source": [
    "We want to know how the articles are distributes when grouped by different criteria. Since the information available on our dataset focuses on the colour and the group or type of articles, we decided to use the attributes 'colour_group_name' and 'garment_group_name' for the data visualization, which bring different information representative for their respective 'areas'. This is because these attributes with respect to the others bringing similar information (more and less detailed) are meaningful, easily interpretable and appear to have a range of values which is not too small nor too huge, allowing us to get a good visual ovierview of the distribution. "
   ]
  },
  {
   "cell_type": "code",
   "execution_count": 13,
   "metadata": {},
   "outputs": [
    {
     "data": {
      "image/png": "[encoded data removed]",
      "text/plain": [
       "<Figure size 2500x500 with 1 Axes>"
      ]
     },
     "metadata": {},
     "output_type": "display_data"
    }
   ],
   "source": [
    "# ARTICLES GROUPED BY COLOUR GROUP\n",
    "\n",
    "# Preparing the data for the visualization: sorting the groups in descending order\n",
    "order = sorted(Counter(art_df['colour_group_name']).items(), key = lambda x:x[1], reverse = True)\n",
    "order2 = [i[0] for i in order]\n",
    "\n",
    "# Displaying the histogram\n",
    "sns.set_style(\"whitegrid\")\n",
    "plt.figure(figsize = (25,5))\n",
    "plt.subplot(1,2,1)\n",
    "ax = sns.countplot(x = 'colour_group_name', data = art_df, palette = 'mako', order = order2)\n",
    "plt.xticks(rotation = 90)\n",
    "plt.title('Number of articles per colour');"
   ]
  },
  {
   "cell_type": "code",
   "execution_count": 14,
   "metadata": {},
   "outputs": [
    {
     "data": {
      "image/png": "[encoded data removed]",
      "text/plain": [
       "<Figure size 2500x500 with 1 Axes>"
      ]
     },
     "metadata": {},
     "output_type": "display_data"
    }
   ],
   "source": [
    "# ARTICLES GROUPED BY GARMENT GROUP\n",
    "\n",
    "# Preparing the data for the visualization: sorting the groups in descending order\n",
    "order = sorted(Counter(art_df['garment_group_name']).items(), key = lambda x:x[1], reverse = True)\n",
    "order2 = [i[0] for i in order]\n",
    "\n",
    "# Displaying the histogram\n",
    "sns.set_style(\"whitegrid\")\n",
    "plt.figure(figsize = (25,5))\n",
    "plt.subplot(1,2,1)\n",
    "ax = sns.countplot(x = 'garment_group_name', data = art_df, palette = 'mako', order = order2)\n",
    "plt.xticks(rotation = 90)\n",
    "plt.title('Number of articles per garment group');"
   ]
  },
  {
   "cell_type": "markdown",
   "metadata": {},
   "source": [
    "## Content-based recommender system\n",
    "\n",
    "Now that we have a clear overview of the dataset, we want to build a content-based recommender system. The goal is to suggests new articles to a user basing on the user's past purchases. Therefore we want to suggest items that are similar to the ones we already know the user has a preference for.\n",
    "\n",
    "Similarity is measured between articles by comparing the attributes of articles that a user has previously bought with the attributes of other articles. We are going to use the cosine distance to measure similarity, which is a typical choice for content-based recommender systems. Cosine similarity works by calculating the dot product of the vectors (rows representing attribute-values that each article has), measuring how similar the directions of the vectors. The higher the cosine similarity, the more similar the items are.\n",
    "\n",
    "The attribute choice is extremely important since it determines the types of recommendations that the system is able to make: we want to exploit as many relevant information as possible, but we also don't want to use too many attributes, because this may make the recommendation process slow and cumbersome. In order to strike a balance, we choose the following attributes for the recommendation task:\n",
    "- product_type;\n",
    "- colour_group;\n",
    "- section;\n",
    "- garment_group;\n",
    "\n",
    "This choice comes from the need of taking under consideration attributes which span in a relatively high range of values and contribute with different kind of information. Once determined the piece of information to consider, we decided to use the attribute containing the numerical value."
   ]
  },
  {
   "cell_type": "markdown",
   "metadata": {},
   "source": [
    "### Content-based recommender system (1)\n",
    "\n",
    "In order to start building the content-based filtering recommender, we set up the dataset so that each row represent a different article and columns represent all the possible values that each of the attributes we considered can assume. To do so, we manipulate the columns representing the choosen attributes in the articles dataframe creating a new one (art_features_df). In this new dataframe each row contains a series of binary features: \"1\" indicates that the article falls under a given attribute value, while \"0\" indicates that it does not."
   ]
  },
  {
   "cell_type": "code",
   "execution_count": 15,
   "metadata": {
    "pycharm": {
     "name": "#%%\n"
    }
   },
   "outputs": [
    {
     "name": "stdout",
     "output_type": "stream",
     "text": [
      "Binary table of features:\n"
     ]
    },
    {
     "data": {
      "text/html": [
       "<div>\n",
       "<style scoped>\n",
       "    .dataframe tbody tr th:only-of-type {\n",
       "        vertical-align: middle;\n",
       "    }\n",
       "\n",
       "    .dataframe tbody tr th {\n",
       "        vertical-align: top;\n",
       "    }\n",
       "\n",
       "    .dataframe thead th {\n",
       "        text-align: right;\n",
       "    }\n",
       "</style>\n",
       "<table border=\"1\" class=\"dataframe\">\n",
       "  <thead>\n",
       "    <tr style=\"text-align: right;\">\n",
       "      <th></th>\n",
       "      <th>304</th>\n",
       "      <th>273</th>\n",
       "      <th>532</th>\n",
       "      <th>252</th>\n",
       "      <th>306</th>\n",
       "      <th>302</th>\n",
       "      <th>67</th>\n",
       "      <th>72</th>\n",
       "      <th>73</th>\n",
       "      <th>275</th>\n",
       "      <th>...</th>\n",
       "      <th>1011</th>\n",
       "      <th>1010</th>\n",
       "      <th>1003</th>\n",
       "      <th>1013</th>\n",
       "      <th>1008</th>\n",
       "      <th>1025</th>\n",
       "      <th>1023</th>\n",
       "      <th>1012</th>\n",
       "      <th>1006</th>\n",
       "      <th>1014</th>\n",
       "    </tr>\n",
       "  </thead>\n",
       "  <tbody>\n",
       "    <tr>\n",
       "      <th>0</th>\n",
       "      <td>1</td>\n",
       "      <td>0</td>\n",
       "      <td>0</td>\n",
       "      <td>0</td>\n",
       "      <td>0</td>\n",
       "      <td>0</td>\n",
       "      <td>0</td>\n",
       "      <td>0</td>\n",
       "      <td>0</td>\n",
       "      <td>0</td>\n",
       "      <td>...</td>\n",
       "      <td>0</td>\n",
       "      <td>0</td>\n",
       "      <td>0</td>\n",
       "      <td>0</td>\n",
       "      <td>0</td>\n",
       "      <td>0</td>\n",
       "      <td>0</td>\n",
       "      <td>0</td>\n",
       "      <td>0</td>\n",
       "      <td>0</td>\n",
       "    </tr>\n",
       "    <tr>\n",
       "      <th>1</th>\n",
       "      <td>0</td>\n",
       "      <td>1</td>\n",
       "      <td>0</td>\n",
       "      <td>0</td>\n",
       "      <td>0</td>\n",
       "      <td>0</td>\n",
       "      <td>0</td>\n",
       "      <td>0</td>\n",
       "      <td>0</td>\n",
       "      <td>0</td>\n",
       "      <td>...</td>\n",
       "      <td>0</td>\n",
       "      <td>0</td>\n",
       "      <td>0</td>\n",
       "      <td>0</td>\n",
       "      <td>0</td>\n",
       "      <td>0</td>\n",
       "      <td>0</td>\n",
       "      <td>0</td>\n",
       "      <td>0</td>\n",
       "      <td>0</td>\n",
       "    </tr>\n",
       "    <tr>\n",
       "      <th>2</th>\n",
       "      <td>1</td>\n",
       "      <td>0</td>\n",
       "      <td>0</td>\n",
       "      <td>0</td>\n",
       "      <td>0</td>\n",
       "      <td>0</td>\n",
       "      <td>0</td>\n",
       "      <td>0</td>\n",
       "      <td>0</td>\n",
       "      <td>0</td>\n",
       "      <td>...</td>\n",
       "      <td>0</td>\n",
       "      <td>0</td>\n",
       "      <td>0</td>\n",
       "      <td>0</td>\n",
       "      <td>0</td>\n",
       "      <td>0</td>\n",
       "      <td>0</td>\n",
       "      <td>0</td>\n",
       "      <td>0</td>\n",
       "      <td>0</td>\n",
       "    </tr>\n",
       "    <tr>\n",
       "      <th>3</th>\n",
       "      <td>1</td>\n",
       "      <td>0</td>\n",
       "      <td>0</td>\n",
       "      <td>0</td>\n",
       "      <td>0</td>\n",
       "      <td>0</td>\n",
       "      <td>0</td>\n",
       "      <td>0</td>\n",
       "      <td>0</td>\n",
       "      <td>0</td>\n",
       "      <td>...</td>\n",
       "      <td>0</td>\n",
       "      <td>0</td>\n",
       "      <td>0</td>\n",
       "      <td>0</td>\n",
       "      <td>0</td>\n",
       "      <td>0</td>\n",
       "      <td>0</td>\n",
       "      <td>0</td>\n",
       "      <td>0</td>\n",
       "      <td>0</td>\n",
       "    </tr>\n",
       "    <tr>\n",
       "      <th>4</th>\n",
       "      <td>0</td>\n",
       "      <td>1</td>\n",
       "      <td>0</td>\n",
       "      <td>0</td>\n",
       "      <td>0</td>\n",
       "      <td>0</td>\n",
       "      <td>0</td>\n",
       "      <td>0</td>\n",
       "      <td>0</td>\n",
       "      <td>0</td>\n",
       "      <td>...</td>\n",
       "      <td>0</td>\n",
       "      <td>0</td>\n",
       "      <td>0</td>\n",
       "      <td>0</td>\n",
       "      <td>0</td>\n",
       "      <td>0</td>\n",
       "      <td>0</td>\n",
       "      <td>0</td>\n",
       "      <td>0</td>\n",
       "      <td>0</td>\n",
       "    </tr>\n",
       "    <tr>\n",
       "      <th>...</th>\n",
       "      <td>...</td>\n",
       "      <td>...</td>\n",
       "      <td>...</td>\n",
       "      <td>...</td>\n",
       "      <td>...</td>\n",
       "      <td>...</td>\n",
       "      <td>...</td>\n",
       "      <td>...</td>\n",
       "      <td>...</td>\n",
       "      <td>...</td>\n",
       "      <td>...</td>\n",
       "      <td>...</td>\n",
       "      <td>...</td>\n",
       "      <td>...</td>\n",
       "      <td>...</td>\n",
       "      <td>...</td>\n",
       "      <td>...</td>\n",
       "      <td>...</td>\n",
       "      <td>...</td>\n",
       "      <td>...</td>\n",
       "      <td>...</td>\n",
       "    </tr>\n",
       "    <tr>\n",
       "      <th>6531</th>\n",
       "      <td>0</td>\n",
       "      <td>0</td>\n",
       "      <td>0</td>\n",
       "      <td>1</td>\n",
       "      <td>0</td>\n",
       "      <td>0</td>\n",
       "      <td>0</td>\n",
       "      <td>0</td>\n",
       "      <td>0</td>\n",
       "      <td>0</td>\n",
       "      <td>...</td>\n",
       "      <td>0</td>\n",
       "      <td>0</td>\n",
       "      <td>0</td>\n",
       "      <td>0</td>\n",
       "      <td>0</td>\n",
       "      <td>0</td>\n",
       "      <td>0</td>\n",
       "      <td>0</td>\n",
       "      <td>0</td>\n",
       "      <td>0</td>\n",
       "    </tr>\n",
       "    <tr>\n",
       "      <th>6532</th>\n",
       "      <td>0</td>\n",
       "      <td>0</td>\n",
       "      <td>0</td>\n",
       "      <td>1</td>\n",
       "      <td>0</td>\n",
       "      <td>0</td>\n",
       "      <td>0</td>\n",
       "      <td>0</td>\n",
       "      <td>0</td>\n",
       "      <td>0</td>\n",
       "      <td>...</td>\n",
       "      <td>0</td>\n",
       "      <td>0</td>\n",
       "      <td>0</td>\n",
       "      <td>0</td>\n",
       "      <td>0</td>\n",
       "      <td>0</td>\n",
       "      <td>0</td>\n",
       "      <td>0</td>\n",
       "      <td>0</td>\n",
       "      <td>0</td>\n",
       "    </tr>\n",
       "    <tr>\n",
       "      <th>6533</th>\n",
       "      <td>1</td>\n",
       "      <td>0</td>\n",
       "      <td>0</td>\n",
       "      <td>0</td>\n",
       "      <td>0</td>\n",
       "      <td>0</td>\n",
       "      <td>0</td>\n",
       "      <td>0</td>\n",
       "      <td>0</td>\n",
       "      <td>0</td>\n",
       "      <td>...</td>\n",
       "      <td>0</td>\n",
       "      <td>0</td>\n",
       "      <td>0</td>\n",
       "      <td>0</td>\n",
       "      <td>0</td>\n",
       "      <td>0</td>\n",
       "      <td>0</td>\n",
       "      <td>0</td>\n",
       "      <td>0</td>\n",
       "      <td>0</td>\n",
       "    </tr>\n",
       "    <tr>\n",
       "      <th>6534</th>\n",
       "      <td>0</td>\n",
       "      <td>0</td>\n",
       "      <td>0</td>\n",
       "      <td>0</td>\n",
       "      <td>0</td>\n",
       "      <td>0</td>\n",
       "      <td>0</td>\n",
       "      <td>0</td>\n",
       "      <td>0</td>\n",
       "      <td>0</td>\n",
       "      <td>...</td>\n",
       "      <td>0</td>\n",
       "      <td>0</td>\n",
       "      <td>0</td>\n",
       "      <td>0</td>\n",
       "      <td>0</td>\n",
       "      <td>0</td>\n",
       "      <td>0</td>\n",
       "      <td>0</td>\n",
       "      <td>0</td>\n",
       "      <td>0</td>\n",
       "    </tr>\n",
       "    <tr>\n",
       "      <th>6535</th>\n",
       "      <td>0</td>\n",
       "      <td>0</td>\n",
       "      <td>0</td>\n",
       "      <td>0</td>\n",
       "      <td>0</td>\n",
       "      <td>0</td>\n",
       "      <td>0</td>\n",
       "      <td>0</td>\n",
       "      <td>0</td>\n",
       "      <td>0</td>\n",
       "      <td>...</td>\n",
       "      <td>0</td>\n",
       "      <td>0</td>\n",
       "      <td>0</td>\n",
       "      <td>0</td>\n",
       "      <td>0</td>\n",
       "      <td>0</td>\n",
       "      <td>0</td>\n",
       "      <td>0</td>\n",
       "      <td>0</td>\n",
       "      <td>0</td>\n",
       "    </tr>\n",
       "  </tbody>\n",
       "</table>\n",
       "<p>6328 rows × 187 columns</p>\n",
       "</div>"
      ],
      "text/plain": [
       "      304   273   532   252   306   302   67    72    73    275   ...  1011  \\\n",
       "0        1     0     0     0     0     0     0     0     0     0  ...     0   \n",
       "1        0     1     0     0     0     0     0     0     0     0  ...     0   \n",
       "2        1     0     0     0     0     0     0     0     0     0  ...     0   \n",
       "3        1     0     0     0     0     0     0     0     0     0  ...     0   \n",
       "4        0     1     0     0     0     0     0     0     0     0  ...     0   \n",
       "...    ...   ...   ...   ...   ...   ...   ...   ...   ...   ...  ...   ...   \n",
       "6531     0     0     0     1     0     0     0     0     0     0  ...     0   \n",
       "6532     0     0     0     1     0     0     0     0     0     0  ...     0   \n",
       "6533     1     0     0     0     0     0     0     0     0     0  ...     0   \n",
       "6534     0     0     0     0     0     0     0     0     0     0  ...     0   \n",
       "6535     0     0     0     0     0     0     0     0     0     0  ...     0   \n",
       "\n",
       "      1010  1003  1013  1008  1025  1023  1012  1006  1014  \n",
       "0        0     0     0     0     0     0     0     0     0  \n",
       "1        0     0     0     0     0     0     0     0     0  \n",
       "2        0     0     0     0     0     0     0     0     0  \n",
       "3        0     0     0     0     0     0     0     0     0  \n",
       "4        0     0     0     0     0     0     0     0     0  \n",
       "...    ...   ...   ...   ...   ...   ...   ...   ...   ...  \n",
       "6531     0     0     0     0     0     0     0     0     0  \n",
       "6532     0     0     0     0     0     0     0     0     0  \n",
       "6533     0     0     0     0     0     0     0     0     0  \n",
       "6534     0     0     0     0     0     0     0     0     0  \n",
       "6535     0     0     0     0     0     0     0     0     0  \n",
       "\n",
       "[6328 rows x 187 columns]"
      ]
     },
     "metadata": {},
     "output_type": "display_data"
    }
   ],
   "source": [
    "# IMPLEMENTING THE TABLE\n",
    "\n",
    "features = ['product_type', 'colour_group', 'section', 'garment_group'] # list of choosen attributes\n",
    "\n",
    "# Extracting all the values that each attribute (feature) can assume\n",
    "columns = []\n",
    "for feature in features:\n",
    "    feature_counts = Counter(f for f in art_df[feature])\n",
    "    feature_names = list(feature_counts.keys())\n",
    "    for name in feature_names:\n",
    "        columns.append(name)\n",
    "\n",
    "# Pre-allocating dataframe columns\n",
    "art_features_df = pd.DataFrame(columns = columns) \n",
    "\n",
    "# Filling the dataframe\n",
    "for feature in features:\n",
    "    feature_counts = Counter(f for f in art_df[feature])\n",
    "    feature_names = list(feature_counts.keys())\n",
    "    for feature_name in feature_names:\n",
    "        art_features_df[feature_name] = art_df[feature].transform(lambda x: int(feature_name == x))\n",
    "\n",
    "# Displaying the \"binary\" table\n",
    "print('Binary table of features:')\n",
    "display(art_features_df)"
   ]
  },
  {
   "cell_type": "markdown",
   "metadata": {},
   "source": [
    "Now we implement the cosine similarity metric to build our recommender system, constructing a matrix of shape number of articles X number of articles."
   ]
  },
  {
   "cell_type": "code",
   "execution_count": 16,
   "metadata": {},
   "outputs": [
    {
     "name": "stdout",
     "output_type": "stream",
     "text": [
      "Cosine similarity matrix shape: (6328, 6328)\n",
      "\n"
     ]
    }
   ],
   "source": [
    "# BUILDING THE COSINE SIMILARITY MATRIX\n",
    "\n",
    "cosine_sim = cosine_similarity(art_features_df, art_features_df)\n",
    "print('Cosine similarity matrix shape: ' + str(cosine_sim.shape) + '\\n')"
   ]
  },
  {
   "cell_type": "markdown",
   "metadata": {},
   "source": [
    "We exploit the matrix just created to obtain a function that, given any article id, returns n recommended items (following the cosine similarity measure)."
   ]
  },
  {
   "cell_type": "code",
   "execution_count": 17,
   "metadata": {},
   "outputs": [],
   "source": [
    "# IMPLEMENTING THE CONTENT-BASED RECOMMENDER SYSTEM\n",
    "\n",
    "def content_based_recsys(article_id, n = 10):\n",
    "    \n",
    "    \"\"\"\n",
    "    Finds n similar articles for a given article id\n",
    "    \n",
    "    Args:\n",
    "        article_id: id of the article of interest\n",
    "        n: number of similar articles to retrieve (default = 10)\n",
    "    \n",
    "    Returns:\n",
    "        list of n similar articles\n",
    "    \"\"\"\n",
    "    \n",
    "    if n <= 0 or type(n) != int:\n",
    "        print('An integer positive number of suggestions is required')\n",
    "        return []\n",
    "    \n",
    "    else:\n",
    "        \n",
    "        # Taking the n most similar products to the one inserted as input\n",
    "        id = art_df[art_df['article_id'] == article_id].index\n",
    "        sim_scores = np.argsort(cosine_sim[id])[0]\n",
    "        result = sim_scores[::-1][1:n+1] \n",
    "        \n",
    "        # Removing the initial article if included in the suggestions\n",
    "        if article_id in result:\n",
    "            result = list(sim_scores[::-1][1:n+2])\n",
    "            result.remove(article_id)\n",
    "\n",
    "        print('For the article ' + str(art_df['prod_name'].iloc[article_id]) + ' (id: ' + str(article_id) + ') the following ' + str(n) + ' products are recommended:')\n",
    "        \n",
    "        # Printing the results\n",
    "        for i in result:\n",
    "            print('- ' + str(art_df['prod_name'].iloc[i]) + ' id:(' + str(i) + ') with a cosine similarity score of ' + str(round(cosine_sim[article_id][i], 2)))\n",
    "        \n",
    "        return result"
   ]
  },
  {
   "cell_type": "code",
   "execution_count": 18,
   "metadata": {},
   "outputs": [
    {
     "name": "stdout",
     "output_type": "stream",
     "text": [
      "For the article 30p pins (id: 42) the following 10 products are recommended:\n",
      "- 8p smashing terrys id:(6028) with a cosine similarity score of 1.0\n",
      "- Fluffy scrunchie pack id:(6149) with a cosine similarity score of 1.0\n",
      "- 10p Jersey Terry id:(243) with a cosine similarity score of 1.0\n",
      "- 4p Claw id:(27) with a cosine similarity score of 1.0\n",
      "- 10p Basic Terry id:(29) with a cosine similarity score of 1.0\n",
      "- PQ silk small basic scrunchie id:(6227) with a cosine similarity score of 1.0\n",
      "- Stoffe Minibag id:(6205) with a cosine similarity score of 0.89\n",
      "- Bobby Phonebag id:(6204) with a cosine similarity score of 0.89\n",
      "- Kim jersey headband id:(4794) with a cosine similarity score of 0.89\n",
      "- Classic Necklace SS Phone case id:(3803) with a cosine similarity score of 0.89\n"
     ]
    }
   ],
   "source": [
    "# Function call and results display\n",
    "n = 10\n",
    "article_id = 42\n",
    "_ = content_based_recsys(article_id, n)"
   ]
  },
  {
   "cell_type": "markdown",
   "metadata": {},
   "source": [
    "### Content-based recommender system (2 - advanced)\n",
    "\n",
    "Since our initial goal was to recommend items directly to customers basing to their previous purchases (and not items from a single item), we will improve our content-based filtering system. We want to build a function that receive as input the customer id, and basing on all the purchases made by that customer, returns n recommended items. This function works by finding, for each article purchased by the user, 20 suggested items (by calling the basic content-based recommandation filter defined above). Once it has all this articles, it gives more weights to the ones that are mentioned several times. It finally returns the 10 articles that are mentioned more.    "
   ]
  },
  {
   "cell_type": "code",
   "execution_count": 19,
   "metadata": {},
   "outputs": [],
   "source": [
    "# IMPLEMENTING THE ADVANCED CONTENT-BASED RECOMMENDER SYSTEM\n",
    "\n",
    "def advanced_content_based_recsys(customer_id):\n",
    "    \n",
    "    \"\"\"\n",
    "    Finds n similar articles to suggest for a given customer id\n",
    "    \n",
    "    Args:\n",
    "        customer_id: id of the customer of interest\n",
    "    \n",
    "    Returns:\n",
    "        list of 10 similar articles\n",
    "    \"\"\"\n",
    "    \n",
    "    # Variables inizialization\n",
    "    pa_ids = [] # Will contain the ids of the purchased articles by the customer of interest\n",
    "    pa_ids = tra_df.loc[tra_df['customer_id'] == customer_id]\n",
    "    pa_ids = pa_ids['article_id'].values.tolist()\n",
    "    \n",
    "    \n",
    "    \n",
    "    all_suggestions = []\n",
    "    for article in pa_ids:\n",
    "        \n",
    "        # Backup current stdout\n",
    "        old_stdout = sys.stdout\n",
    "        sys.stdout = open(os.devnull, \"w\")\n",
    "        \n",
    "        # Function call for the basic content-based recommendation system\n",
    "        article_suggestions = content_based_recsys(article, 20)\n",
    "        \n",
    "        # Reset old stdout\n",
    "        sys.stdout = old_stdout \n",
    "        \n",
    "        for suggestion in article_suggestions:\n",
    "            all_suggestions.append(suggestion)\n",
    "    \n",
    "    recommended_articles = dict(Counter(all_suggestions))\n",
    "    recommended_articles = [(k, v) for k, v in recommended_articles.items()]\n",
    "    \n",
    "    result = recommended_articles[-10 :]\n",
    "    \n",
    "    print('For the customer whose id is' + str(cus_df['customer_id'].iloc[customer_id]) + ' the following ' + str(10) + ' products are recommended:')\n",
    "        \n",
    "    #Printing the results\n",
    "    for i in result:\n",
    "        print('- ' + str(art_df['prod_name'].iloc[i[0]]) + ' id:(' + str(i[0]) + ')')\n",
    "            \n",
    "    return result"
   ]
  },
  {
   "cell_type": "code",
   "execution_count": 20,
   "metadata": {},
   "outputs": [
    {
     "name": "stdout",
     "output_type": "stream",
     "text": [
      "For the customer whose id is7 the following 10 products are recommended:\n",
      "- Solange frill skirt id:(2916)\n",
      "- CHARLIE SKIRT id:(767)\n",
      "- GAUDI JERSEY SKIRT id:(5752)\n",
      "- Solange frill skirt id:(2915)\n",
      "- Kardashian id:(1198)\n",
      "- CHARLIE SKIRT id:(768)\n",
      "- JOE JERSEY ALINE id:(4865)\n",
      "- KYLIE MIDI SKIRT id:(4163)\n",
      "- KYLIE MIDI SKIRT id:(4162)\n",
      "- CHARLIE SKIRT S.2 id:(771)\n"
     ]
    }
   ],
   "source": [
    "# FUNCTION CALL\n",
    "\n",
    "cus_id = 7\n",
    "_ = advanced_content_based_recsys(cus_id)"
   ]
  },
  {
   "cell_type": "markdown",
   "metadata": {},
   "source": [
    "## Collaborative recommender system"
   ]
  },
  {
   "cell_type": "markdown",
   "metadata": {},
   "source": [
    "For the collaborative filtering, we start by transforming our data into a \"utility matrix\" in which rows represent customers and columns represent articles. In order to do that, we need first to map each article to its index (and vice versa) and each customer to its index (and vice versa), then for generating it we call the scipy.sparse.csr_matrix method from sklearn library."
   ]
  },
  {
   "cell_type": "code",
   "execution_count": 21,
   "metadata": {},
   "outputs": [],
   "source": [
    "# IMPLEMENTATION OF ARTICLES_ID-TO-ARTICLES_INDEX MAP (AND INVERSE) AND CUSTOMERS_ID-TO-CUSTOMERS_INDEX MAP (AND INVERSE)\n",
    "\n",
    "t_df = tra_df.groupby(['customer_id', 'article_id']).count().reset_index()\n",
    "t_df.columns = ['customer_id', 'article_id', 'transactions']\n",
    "\n",
    "C = t_df['customer_id'].nunique()\n",
    "A = t_df['article_id'].nunique()\n",
    "\n",
    "article_mapper = dict(zip(np.unique(t_df[\"article_id\"]), list(range(A))))\n",
    "article_inv_mapper = dict(zip(list(range(A)), np.unique(t_df[\"article_id\"])))\n",
    "article_index = [article_mapper[i] for i in t_df['article_id']]\n",
    "\n",
    "customer_mapper = dict(zip(np.unique(t_df[\"customer_id\"]), list(range(C))))\n",
    "customer_inv_mapper = dict(zip(list(range(C)), np.unique(t_df[\"customer_id\"])))\n",
    "customer_index = [customer_mapper[i] for i in t_df['customer_id']]"
   ]
  },
  {
   "cell_type": "code",
   "execution_count": 22,
   "metadata": {},
   "outputs": [],
   "source": [
    "# GENERATING THE UTILITY MATRIX\n",
    "\n",
    "X = scipy.sparse.csr_matrix((t_df[\"transactions\"], (article_index, customer_index)), shape=(A, C))"
   ]
  },
  {
   "cell_type": "markdown",
   "metadata": {},
   "source": [
    "Once we have created the utility matrix, we need to be sure that we can retrieve reliable data from it. To do so, we need to check for the sparsity of the matrix, that is a measure of how many non-zero values are present in the matrix with respect to the overall number of values. For utility matrices, significant results are obtained if the sparsity is at least of 0.5%. Since our utility matrix has sparsity 0.11%, we increased it by getting rid of rows and columns which have less than 20 non-zero values."
   ]
  },
  {
   "cell_type": "code",
   "execution_count": 23,
   "metadata": {},
   "outputs": [
    {
     "name": "stdout",
     "output_type": "stream",
     "text": [
      "Matrix sparsity before sparsity reduction: 0.11%\n"
     ]
    }
   ],
   "source": [
    "# CHECKING FOR THE SPARSITY OF THE UTILITY MATRIX\n",
    "\n",
    "sparsity = X.count_nonzero()/(X.shape[0]*X.shape[1])\n",
    "print('Matrix sparsity before sparsity reduction: ' + str(round(sparsity*100,2)) + '%')"
   ]
  },
  {
   "cell_type": "code",
   "execution_count": 24,
   "metadata": {},
   "outputs": [
    {
     "name": "stdout",
     "output_type": "stream",
     "text": [
      "Matrix sparsity after sparsity reduction: 0.63%\n"
     ]
    }
   ],
   "source": [
    "# DECREASING THE SPARSITY OF THE UTILITY MATRIX\n",
    "\n",
    "X = X[X.getnnz(1)>20][:,X.getnnz(0)>20]\n",
    "sparsity = X.count_nonzero()/(X.shape[0]*X.shape[1])\n",
    "print('Matrix sparsity after sparsity reduction: ' + str(round(sparsity*100,2)) + '%')"
   ]
  },
  {
   "cell_type": "markdown",
   "metadata": {},
   "source": [
    "We build the function implementing the recommender system using the k-NN algorithm."
   ]
  },
  {
   "cell_type": "code",
   "execution_count": 25,
   "metadata": {},
   "outputs": [],
   "source": [
    "# IMPLEMENTING COLLABORATIVE RECOMMENDER SYSTEM\n",
    "\n",
    "def similar_articles_finder(art_id, X, k = 10, metric = 'cosine'):\n",
    "    \n",
    "    \"\"\"\n",
    "    Finds k-nearest neighbours for a given article id\n",
    "    \n",
    "    Args:\n",
    "        art_id: id of the movie of interest\n",
    "        X: customer-article utility matrix\n",
    "        k: number of similar articles to retrieve (default = 10)\n",
    "        metric: distance metric for k-NN calculations (default = cosine)\n",
    "    \n",
    "    Returns:\n",
    "        list of k similar articles\n",
    "    \"\"\"\n",
    "    \n",
    "    neighbour_ids = []\n",
    "    art_ind = article_mapper[art_id]\n",
    "    art_vec = X[art_ind]\n",
    "\n",
    "    kNN = NearestNeighbors(n_neighbors = k+1, algorithm = \"brute\", metric = metric)\n",
    "    kNN.fit(X)\n",
    "    neighbour = kNN.kneighbors(art_vec, return_distance = False)[0]\n",
    "    neighbour_ids = [article_inv_mapper[n] for n in neighbour[1:]]\n",
    "    \n",
    "    print('For the article ' + str(art_df['prod_name'].iloc[art_id]) + ' (id: ' + str(art_id) + ') the following ' + str(k) + ' products are recommended:')\n",
    "    for i in neighbour_ids:\n",
    "        print('- ' + str(art_df['prod_name'].iloc[i]) + ' id:(' + str(i) + ')')\n",
    "    \n",
    "    return neighbour_ids"
   ]
  },
  {
   "cell_type": "code",
   "execution_count": 26,
   "metadata": {},
   "outputs": [
    {
     "name": "stdout",
     "output_type": "stream",
     "text": [
      "For the article 30p pins (id: 42) the following 10 products are recommended:\n",
      "- 30p pins id:(42)\n",
      "- Support 70 den 1p Tights id:(58)\n",
      "- Loose Mom Ultra HW Consc. id:(3454)\n",
      "- V-neck strap top seamless id:(2621)\n",
      "- Mini Trainer 5p Socks id:(646)\n",
      "- PQ COCOS CASH SL TOP id:(1676)\n",
      "- Krabi RTW dress id:(3641)\n",
      "- Nicky long. id:(1109)\n",
      "- Correy Muscle Fit Tee id:(694)\n",
      "- Goji skirt id:(3030)\n"
     ]
    }
   ],
   "source": [
    "# FUNCTION CALL\n",
    "\n",
    "art_id = 42\n",
    "k = 10\n",
    "similar_ids = similar_articles_finder(art_id, X, k = k, metric = 'cosine')"
   ]
  }
 ],
 "metadata": {
  "kernelspec": {
   "display_name": "Python 3 (ipykernel)",
   "language": "python",
   "name": "python3"
  },
  "language_info": {
   "codemirror_mode": {
    "name": "ipython",
    "version": 3
   },
   "file_extension": ".py",
   "mimetype": "text/x-python",
   "name": "python",
   "nbconvert_exporter": "python",
   "pygments_lexer": "ipython3",
   "version": "3.9.6"
  },
  "vscode": {
   "interpreter": {
    "hash": "31f2aee4e71d21fbe5cf8b01ff0e069b9275f58929596ceb00d14d90e3e16cd6"
   }
  }
 },
 "nbformat": 4,
 "nbformat_minor": 1
}